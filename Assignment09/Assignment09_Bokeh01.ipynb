{
 "cells": [
  {
   "cell_type": "code",
   "execution_count": 1,
   "metadata": {},
   "outputs": [
    {
     "name": "stdout",
     "output_type": "stream",
     "text": [
      "IPython - 6.2.1\n",
      "Pandas - 0.22.0\n",
      "Bokeh - 0.12.14\n"
     ]
    }
   ],
   "source": [
    "from IPython import __version__ as ipython_version\n",
    "from pandas import __version__ as pandas_version\n",
    "from bokeh import __version__ as bokeh_version\n",
    "print(\"IPython - %s\" % ipython_version)\n",
    "print(\"Pandas - %s\" % pandas_version)\n",
    "print(\"Bokeh - %s\" % bokeh_version)"
   ]
  },
  {
   "cell_type": "code",
   "execution_count": 2,
   "metadata": {},
   "outputs": [],
   "source": [
    "from bokeh.io import output_notebook, show\n",
    "from bokeh.plotting import figure"
   ]
  },
  {
   "cell_type": "code",
   "execution_count": 3,
   "metadata": {},
   "outputs": [
    {
     "data": {
      "text/html": [
       "\n",
       "    <div class=\"bk-root\">\n",
       "        <a href=\"https://bokeh.pydata.org\" target=\"_blank\" class=\"bk-logo bk-logo-small bk-logo-notebook\"></a>\n",
       "        <span id=\"699b42f0-04f1-4553-a3e2-8b57f19ffc55\">Loading BokehJS ...</span>\n",
       "    </div>"
      ]
     },
     "metadata": {},
     "output_type": "display_data"
    },
    {
     "data": {
      "application/javascript": [
       "\n",
       "(function(root) {\n",
       "  function now() {\n",
       "    return new Date();\n",
       "  }\n",
       "\n",
       "  var force = true;\n",
       "\n",
       "  if (typeof (root._bokeh_onload_callbacks) === \"undefined\" || force === true) {\n",
       "    root._bokeh_onload_callbacks = [];\n",
       "    root._bokeh_is_loading = undefined;\n",
       "  }\n",
       "\n",
       "  var JS_MIME_TYPE = 'application/javascript';\n",
       "  var HTML_MIME_TYPE = 'text/html';\n",
       "  var EXEC_MIME_TYPE = 'application/vnd.bokehjs_exec.v0+json';\n",
       "  var CLASS_NAME = 'output_bokeh rendered_html';\n",
       "\n",
       "  /**\n",
       "   * Render data to the DOM node\n",
       "   */\n",
       "  function render(props, node) {\n",
       "    var script = document.createElement(\"script\");\n",
       "    node.appendChild(script);\n",
       "  }\n",
       "\n",
       "  /**\n",
       "   * Handle when an output is cleared or removed\n",
       "   */\n",
       "  function handleClearOutput(event, handle) {\n",
       "    var cell = handle.cell;\n",
       "\n",
       "    var id = cell.output_area._bokeh_element_id;\n",
       "    var server_id = cell.output_area._bokeh_server_id;\n",
       "    // Clean up Bokeh references\n",
       "    if (id !== undefined) {\n",
       "      Bokeh.index[id].model.document.clear();\n",
       "      delete Bokeh.index[id];\n",
       "    }\n",
       "\n",
       "    if (server_id !== undefined) {\n",
       "      // Clean up Bokeh references\n",
       "      var cmd = \"from bokeh.io.state import curstate; print(curstate().uuid_to_server['\" + server_id + \"'].get_sessions()[0].document.roots[0]._id)\";\n",
       "      cell.notebook.kernel.execute(cmd, {\n",
       "        iopub: {\n",
       "          output: function(msg) {\n",
       "            var element_id = msg.content.text.trim();\n",
       "            Bokeh.index[element_id].model.document.clear();\n",
       "            delete Bokeh.index[element_id];\n",
       "          }\n",
       "        }\n",
       "      });\n",
       "      // Destroy server and session\n",
       "      var cmd = \"import bokeh.io.notebook as ion; ion.destroy_server('\" + server_id + \"')\";\n",
       "      cell.notebook.kernel.execute(cmd);\n",
       "    }\n",
       "  }\n",
       "\n",
       "  /**\n",
       "   * Handle when a new output is added\n",
       "   */\n",
       "  function handleAddOutput(event, handle) {\n",
       "    var output_area = handle.output_area;\n",
       "    var output = handle.output;\n",
       "\n",
       "    // limit handleAddOutput to display_data with EXEC_MIME_TYPE content only\n",
       "    if ((output.output_type != \"display_data\") || (!output.data.hasOwnProperty(EXEC_MIME_TYPE))) {\n",
       "      return\n",
       "    }\n",
       "\n",
       "    var toinsert = output_area.element.find(\".\" + CLASS_NAME.split(' ')[0]);\n",
       "\n",
       "    if (output.metadata[EXEC_MIME_TYPE][\"id\"] !== undefined) {\n",
       "      toinsert[0].firstChild.textContent = output.data[JS_MIME_TYPE];\n",
       "      // store reference to embed id on output_area\n",
       "      output_area._bokeh_element_id = output.metadata[EXEC_MIME_TYPE][\"id\"];\n",
       "    }\n",
       "    if (output.metadata[EXEC_MIME_TYPE][\"server_id\"] !== undefined) {\n",
       "      var bk_div = document.createElement(\"div\");\n",
       "      bk_div.innerHTML = output.data[HTML_MIME_TYPE];\n",
       "      var script_attrs = bk_div.children[0].attributes;\n",
       "      for (var i = 0; i < script_attrs.length; i++) {\n",
       "        toinsert[0].firstChild.setAttribute(script_attrs[i].name, script_attrs[i].value);\n",
       "      }\n",
       "      // store reference to server id on output_area\n",
       "      output_area._bokeh_server_id = output.metadata[EXEC_MIME_TYPE][\"server_id\"];\n",
       "    }\n",
       "  }\n",
       "\n",
       "  function register_renderer(events, OutputArea) {\n",
       "\n",
       "    function append_mime(data, metadata, element) {\n",
       "      // create a DOM node to render to\n",
       "      var toinsert = this.create_output_subarea(\n",
       "        metadata,\n",
       "        CLASS_NAME,\n",
       "        EXEC_MIME_TYPE\n",
       "      );\n",
       "      this.keyboard_manager.register_events(toinsert);\n",
       "      // Render to node\n",
       "      var props = {data: data, metadata: metadata[EXEC_MIME_TYPE]};\n",
       "      render(props, toinsert[0]);\n",
       "      element.append(toinsert);\n",
       "      return toinsert\n",
       "    }\n",
       "\n",
       "    /* Handle when an output is cleared or removed */\n",
       "    events.on('clear_output.CodeCell', handleClearOutput);\n",
       "    events.on('delete.Cell', handleClearOutput);\n",
       "\n",
       "    /* Handle when a new output is added */\n",
       "    events.on('output_added.OutputArea', handleAddOutput);\n",
       "\n",
       "    /**\n",
       "     * Register the mime type and append_mime function with output_area\n",
       "     */\n",
       "    OutputArea.prototype.register_mime_type(EXEC_MIME_TYPE, append_mime, {\n",
       "      /* Is output safe? */\n",
       "      safe: true,\n",
       "      /* Index of renderer in `output_area.display_order` */\n",
       "      index: 0\n",
       "    });\n",
       "  }\n",
       "\n",
       "  // register the mime type if in Jupyter Notebook environment and previously unregistered\n",
       "  if (root.Jupyter !== undefined) {\n",
       "    var events = require('base/js/events');\n",
       "    var OutputArea = require('notebook/js/outputarea').OutputArea;\n",
       "\n",
       "    if (OutputArea.prototype.mime_types().indexOf(EXEC_MIME_TYPE) == -1) {\n",
       "      register_renderer(events, OutputArea);\n",
       "    }\n",
       "  }\n",
       "\n",
       "  \n",
       "  if (typeof (root._bokeh_timeout) === \"undefined\" || force === true) {\n",
       "    root._bokeh_timeout = Date.now() + 5000;\n",
       "    root._bokeh_failed_load = false;\n",
       "  }\n",
       "\n",
       "  var NB_LOAD_WARNING = {'data': {'text/html':\n",
       "     \"<div style='background-color: #fdd'>\\n\"+\n",
       "     \"<p>\\n\"+\n",
       "     \"BokehJS does not appear to have successfully loaded. If loading BokehJS from CDN, this \\n\"+\n",
       "     \"may be due to a slow or bad network connection. Possible fixes:\\n\"+\n",
       "     \"</p>\\n\"+\n",
       "     \"<ul>\\n\"+\n",
       "     \"<li>re-rerun `output_notebook()` to attempt to load from CDN again, or</li>\\n\"+\n",
       "     \"<li>use INLINE resources instead, as so:</li>\\n\"+\n",
       "     \"</ul>\\n\"+\n",
       "     \"<code>\\n\"+\n",
       "     \"from bokeh.resources import INLINE\\n\"+\n",
       "     \"output_notebook(resources=INLINE)\\n\"+\n",
       "     \"</code>\\n\"+\n",
       "     \"</div>\"}};\n",
       "\n",
       "  function display_loaded() {\n",
       "    var el = document.getElementById(\"699b42f0-04f1-4553-a3e2-8b57f19ffc55\");\n",
       "    if (el != null) {\n",
       "      el.textContent = \"BokehJS is loading...\";\n",
       "    }\n",
       "    if (root.Bokeh !== undefined) {\n",
       "      if (el != null) {\n",
       "        el.textContent = \"BokehJS \" + root.Bokeh.version + \" successfully loaded.\";\n",
       "      }\n",
       "    } else if (Date.now() < root._bokeh_timeout) {\n",
       "      setTimeout(display_loaded, 100)\n",
       "    }\n",
       "  }\n",
       "\n",
       "\n",
       "  function run_callbacks() {\n",
       "    try {\n",
       "      root._bokeh_onload_callbacks.forEach(function(callback) { callback() });\n",
       "    }\n",
       "    finally {\n",
       "      delete root._bokeh_onload_callbacks\n",
       "    }\n",
       "    console.info(\"Bokeh: all callbacks have finished\");\n",
       "  }\n",
       "\n",
       "  function load_libs(js_urls, callback) {\n",
       "    root._bokeh_onload_callbacks.push(callback);\n",
       "    if (root._bokeh_is_loading > 0) {\n",
       "      console.log(\"Bokeh: BokehJS is being loaded, scheduling callback at\", now());\n",
       "      return null;\n",
       "    }\n",
       "    if (js_urls == null || js_urls.length === 0) {\n",
       "      run_callbacks();\n",
       "      return null;\n",
       "    }\n",
       "    console.log(\"Bokeh: BokehJS not loaded, scheduling load and callback at\", now());\n",
       "    root._bokeh_is_loading = js_urls.length;\n",
       "    for (var i = 0; i < js_urls.length; i++) {\n",
       "      var url = js_urls[i];\n",
       "      var s = document.createElement('script');\n",
       "      s.src = url;\n",
       "      s.async = false;\n",
       "      s.onreadystatechange = s.onload = function() {\n",
       "        root._bokeh_is_loading--;\n",
       "        if (root._bokeh_is_loading === 0) {\n",
       "          console.log(\"Bokeh: all BokehJS libraries loaded\");\n",
       "          run_callbacks()\n",
       "        }\n",
       "      };\n",
       "      s.onerror = function() {\n",
       "        console.warn(\"failed to load library \" + url);\n",
       "      };\n",
       "      console.log(\"Bokeh: injecting script tag for BokehJS library: \", url);\n",
       "      document.getElementsByTagName(\"head\")[0].appendChild(s);\n",
       "    }\n",
       "  };var element = document.getElementById(\"699b42f0-04f1-4553-a3e2-8b57f19ffc55\");\n",
       "  if (element == null) {\n",
       "    console.log(\"Bokeh: ERROR: autoload.js configured with elementid '699b42f0-04f1-4553-a3e2-8b57f19ffc55' but no matching script tag was found. \")\n",
       "    return false;\n",
       "  }\n",
       "\n",
       "  var js_urls = [\"https://cdn.pydata.org/bokeh/release/bokeh-0.12.14.min.js\", \"https://cdn.pydata.org/bokeh/release/bokeh-widgets-0.12.14.min.js\", \"https://cdn.pydata.org/bokeh/release/bokeh-tables-0.12.14.min.js\", \"https://cdn.pydata.org/bokeh/release/bokeh-gl-0.12.14.min.js\"];\n",
       "\n",
       "  var inline_js = [\n",
       "    function(Bokeh) {\n",
       "      Bokeh.set_log_level(\"info\");\n",
       "    },\n",
       "    \n",
       "    function(Bokeh) {\n",
       "      \n",
       "    },\n",
       "    function(Bokeh) {\n",
       "      console.log(\"Bokeh: injecting CSS: https://cdn.pydata.org/bokeh/release/bokeh-0.12.14.min.css\");\n",
       "      Bokeh.embed.inject_css(\"https://cdn.pydata.org/bokeh/release/bokeh-0.12.14.min.css\");\n",
       "      console.log(\"Bokeh: injecting CSS: https://cdn.pydata.org/bokeh/release/bokeh-widgets-0.12.14.min.css\");\n",
       "      Bokeh.embed.inject_css(\"https://cdn.pydata.org/bokeh/release/bokeh-widgets-0.12.14.min.css\");\n",
       "      console.log(\"Bokeh: injecting CSS: https://cdn.pydata.org/bokeh/release/bokeh-tables-0.12.14.min.css\");\n",
       "      Bokeh.embed.inject_css(\"https://cdn.pydata.org/bokeh/release/bokeh-tables-0.12.14.min.css\");\n",
       "    }\n",
       "  ];\n",
       "\n",
       "  function run_inline_js() {\n",
       "    \n",
       "    if ((root.Bokeh !== undefined) || (force === true)) {\n",
       "      for (var i = 0; i < inline_js.length; i++) {\n",
       "        inline_js[i].call(root, root.Bokeh);\n",
       "      }if (force === true) {\n",
       "        display_loaded();\n",
       "      }} else if (Date.now() < root._bokeh_timeout) {\n",
       "      setTimeout(run_inline_js, 100);\n",
       "    } else if (!root._bokeh_failed_load) {\n",
       "      console.log(\"Bokeh: BokehJS failed to load within specified timeout.\");\n",
       "      root._bokeh_failed_load = true;\n",
       "    } else if (force !== true) {\n",
       "      var cell = $(document.getElementById(\"699b42f0-04f1-4553-a3e2-8b57f19ffc55\")).parents('.cell').data().cell;\n",
       "      cell.output_area.append_execute_result(NB_LOAD_WARNING)\n",
       "    }\n",
       "\n",
       "  }\n",
       "\n",
       "  if (root._bokeh_is_loading === 0) {\n",
       "    console.log(\"Bokeh: BokehJS loaded, going straight to plotting\");\n",
       "    run_inline_js();\n",
       "  } else {\n",
       "    load_libs(js_urls, function() {\n",
       "      console.log(\"Bokeh: BokehJS plotting callback run at\", now());\n",
       "      run_inline_js();\n",
       "    });\n",
       "  }\n",
       "}(window));"
      ],
      "application/vnd.bokehjs_load.v0+json": "\n(function(root) {\n  function now() {\n    return new Date();\n  }\n\n  var force = true;\n\n  if (typeof (root._bokeh_onload_callbacks) === \"undefined\" || force === true) {\n    root._bokeh_onload_callbacks = [];\n    root._bokeh_is_loading = undefined;\n  }\n\n  \n\n  \n  if (typeof (root._bokeh_timeout) === \"undefined\" || force === true) {\n    root._bokeh_timeout = Date.now() + 5000;\n    root._bokeh_failed_load = false;\n  }\n\n  var NB_LOAD_WARNING = {'data': {'text/html':\n     \"<div style='background-color: #fdd'>\\n\"+\n     \"<p>\\n\"+\n     \"BokehJS does not appear to have successfully loaded. If loading BokehJS from CDN, this \\n\"+\n     \"may be due to a slow or bad network connection. Possible fixes:\\n\"+\n     \"</p>\\n\"+\n     \"<ul>\\n\"+\n     \"<li>re-rerun `output_notebook()` to attempt to load from CDN again, or</li>\\n\"+\n     \"<li>use INLINE resources instead, as so:</li>\\n\"+\n     \"</ul>\\n\"+\n     \"<code>\\n\"+\n     \"from bokeh.resources import INLINE\\n\"+\n     \"output_notebook(resources=INLINE)\\n\"+\n     \"</code>\\n\"+\n     \"</div>\"}};\n\n  function display_loaded() {\n    var el = document.getElementById(\"699b42f0-04f1-4553-a3e2-8b57f19ffc55\");\n    if (el != null) {\n      el.textContent = \"BokehJS is loading...\";\n    }\n    if (root.Bokeh !== undefined) {\n      if (el != null) {\n        el.textContent = \"BokehJS \" + root.Bokeh.version + \" successfully loaded.\";\n      }\n    } else if (Date.now() < root._bokeh_timeout) {\n      setTimeout(display_loaded, 100)\n    }\n  }\n\n\n  function run_callbacks() {\n    try {\n      root._bokeh_onload_callbacks.forEach(function(callback) { callback() });\n    }\n    finally {\n      delete root._bokeh_onload_callbacks\n    }\n    console.info(\"Bokeh: all callbacks have finished\");\n  }\n\n  function load_libs(js_urls, callback) {\n    root._bokeh_onload_callbacks.push(callback);\n    if (root._bokeh_is_loading > 0) {\n      console.log(\"Bokeh: BokehJS is being loaded, scheduling callback at\", now());\n      return null;\n    }\n    if (js_urls == null || js_urls.length === 0) {\n      run_callbacks();\n      return null;\n    }\n    console.log(\"Bokeh: BokehJS not loaded, scheduling load and callback at\", now());\n    root._bokeh_is_loading = js_urls.length;\n    for (var i = 0; i < js_urls.length; i++) {\n      var url = js_urls[i];\n      var s = document.createElement('script');\n      s.src = url;\n      s.async = false;\n      s.onreadystatechange = s.onload = function() {\n        root._bokeh_is_loading--;\n        if (root._bokeh_is_loading === 0) {\n          console.log(\"Bokeh: all BokehJS libraries loaded\");\n          run_callbacks()\n        }\n      };\n      s.onerror = function() {\n        console.warn(\"failed to load library \" + url);\n      };\n      console.log(\"Bokeh: injecting script tag for BokehJS library: \", url);\n      document.getElementsByTagName(\"head\")[0].appendChild(s);\n    }\n  };var element = document.getElementById(\"699b42f0-04f1-4553-a3e2-8b57f19ffc55\");\n  if (element == null) {\n    console.log(\"Bokeh: ERROR: autoload.js configured with elementid '699b42f0-04f1-4553-a3e2-8b57f19ffc55' but no matching script tag was found. \")\n    return false;\n  }\n\n  var js_urls = [\"https://cdn.pydata.org/bokeh/release/bokeh-0.12.14.min.js\", \"https://cdn.pydata.org/bokeh/release/bokeh-widgets-0.12.14.min.js\", \"https://cdn.pydata.org/bokeh/release/bokeh-tables-0.12.14.min.js\", \"https://cdn.pydata.org/bokeh/release/bokeh-gl-0.12.14.min.js\"];\n\n  var inline_js = [\n    function(Bokeh) {\n      Bokeh.set_log_level(\"info\");\n    },\n    \n    function(Bokeh) {\n      \n    },\n    function(Bokeh) {\n      console.log(\"Bokeh: injecting CSS: https://cdn.pydata.org/bokeh/release/bokeh-0.12.14.min.css\");\n      Bokeh.embed.inject_css(\"https://cdn.pydata.org/bokeh/release/bokeh-0.12.14.min.css\");\n      console.log(\"Bokeh: injecting CSS: https://cdn.pydata.org/bokeh/release/bokeh-widgets-0.12.14.min.css\");\n      Bokeh.embed.inject_css(\"https://cdn.pydata.org/bokeh/release/bokeh-widgets-0.12.14.min.css\");\n      console.log(\"Bokeh: injecting CSS: https://cdn.pydata.org/bokeh/release/bokeh-tables-0.12.14.min.css\");\n      Bokeh.embed.inject_css(\"https://cdn.pydata.org/bokeh/release/bokeh-tables-0.12.14.min.css\");\n    }\n  ];\n\n  function run_inline_js() {\n    \n    if ((root.Bokeh !== undefined) || (force === true)) {\n      for (var i = 0; i < inline_js.length; i++) {\n        inline_js[i].call(root, root.Bokeh);\n      }if (force === true) {\n        display_loaded();\n      }} else if (Date.now() < root._bokeh_timeout) {\n      setTimeout(run_inline_js, 100);\n    } else if (!root._bokeh_failed_load) {\n      console.log(\"Bokeh: BokehJS failed to load within specified timeout.\");\n      root._bokeh_failed_load = true;\n    } else if (force !== true) {\n      var cell = $(document.getElementById(\"699b42f0-04f1-4553-a3e2-8b57f19ffc55\")).parents('.cell').data().cell;\n      cell.output_area.append_execute_result(NB_LOAD_WARNING)\n    }\n\n  }\n\n  if (root._bokeh_is_loading === 0) {\n    console.log(\"Bokeh: BokehJS loaded, going straight to plotting\");\n    run_inline_js();\n  } else {\n    load_libs(js_urls, function() {\n      console.log(\"Bokeh: BokehJS plotting callback run at\", now());\n      run_inline_js();\n    });\n  }\n}(window));"
     },
     "metadata": {},
     "output_type": "display_data"
    }
   ],
   "source": [
    "output_notebook()"
   ]
  },
  {
   "cell_type": "code",
   "execution_count": 7,
   "metadata": {},
   "outputs": [
    {
     "data": {
      "text/html": [
       "\n",
       "<div class=\"bk-root\">\n",
       "    <div class=\"bk-plotdiv\" id=\"84a427ca-f13c-48c6-aa53-1d15ffc7022e\"></div>\n",
       "</div>"
      ]
     },
     "metadata": {},
     "output_type": "display_data"
    },
    {
     "data": {
      "application/javascript": [
       "(function(root) {\n",
       "  function embed_document(root) {\n",
       "    \n",
       "  var docs_json = {\"4a25799f-1d35-43d2-8154-55dcec8200f1\":{\"roots\":{\"references\":[{\"attributes\":{\"formatter\":{\"id\":\"aebfc510-3eab-41c2-a3f0-f315ef81c8db\",\"type\":\"BasicTickFormatter\"},\"plot\":{\"id\":\"d175e45c-9aea-446e-a92a-a3ae16557021\",\"subtype\":\"Figure\",\"type\":\"Plot\"},\"ticker\":{\"id\":\"7b2c0475-d225-40a7-950b-54d2e1290dd4\",\"type\":\"BasicTicker\"}},\"id\":\"c26d8dac-a2db-442f-a1c4-48b76f784f46\",\"type\":\"LinearAxis\"},{\"attributes\":{\"fill_alpha\":{\"value\":0.1},\"fill_color\":{\"value\":\"#1f77b4\"},\"line_alpha\":{\"value\":0.1},\"line_color\":{\"value\":\"#1f77b4\"},\"radius\":{\"units\":\"data\",\"value\":0.1},\"x\":{\"field\":\"x\"},\"y\":{\"field\":\"y\"}},\"id\":\"ee771190-2c58-499d-a2e9-79d2ea890648\",\"type\":\"Circle\"},{\"attributes\":{},\"id\":\"76e1678f-dabe-4684-9e89-92dd3f8d0df0\",\"type\":\"WheelZoomTool\"},{\"attributes\":{\"overlay\":{\"id\":\"065d53a5-e5f5-4bf3-9b77-9e3f651bb628\",\"type\":\"BoxAnnotation\"}},\"id\":\"0e49567e-8019-4dc2-95d2-9e929d60c37e\",\"type\":\"BoxZoomTool\"},{\"attributes\":{},\"id\":\"7b2c0475-d225-40a7-950b-54d2e1290dd4\",\"type\":\"BasicTicker\"},{\"attributes\":{\"dimension\":1,\"plot\":{\"id\":\"d175e45c-9aea-446e-a92a-a3ae16557021\",\"subtype\":\"Figure\",\"type\":\"Plot\"},\"ticker\":{\"id\":\"408d4ee3-e437-4b09-b704-9abdbf0baf80\",\"type\":\"BasicTicker\"}},\"id\":\"8ea68220-ef12-42ea-8327-c2c0df90bf38\",\"type\":\"Grid\"},{\"attributes\":{},\"id\":\"aa705743-4e5f-4126-9c45-1282d48cb0ce\",\"type\":\"HelpTool\"},{\"attributes\":{\"fill_alpha\":{\"value\":0.5},\"fill_color\":{\"value\":\"orange\"},\"line_color\":{\"value\":\"navy\"},\"radius\":{\"units\":\"data\",\"value\":0.1},\"x\":{\"field\":\"x\"},\"y\":{\"field\":\"y\"}},\"id\":\"1482a8de-b679-41eb-a8cb-1f836ea4b0e1\",\"type\":\"Circle\"},{\"attributes\":{},\"id\":\"5ace5356-70f7-4aa1-b002-17357391b21c\",\"type\":\"PanTool\"},{\"attributes\":{},\"id\":\"9df29180-cda6-4e85-9a17-d39743f22327\",\"type\":\"LinearScale\"},{\"attributes\":{\"plot\":null,\"text\":\"\"},\"id\":\"0167120b-05ee-4436-9bb3-38958aeae46f\",\"type\":\"Title\"},{\"attributes\":{\"bottom_units\":\"screen\",\"fill_alpha\":{\"value\":0.5},\"fill_color\":{\"value\":\"lightgrey\"},\"left_units\":\"screen\",\"level\":\"overlay\",\"line_alpha\":{\"value\":1.0},\"line_color\":{\"value\":\"black\"},\"line_dash\":[4,4],\"line_width\":{\"value\":2},\"plot\":null,\"render_mode\":\"css\",\"right_units\":\"screen\",\"top_units\":\"screen\"},\"id\":\"065d53a5-e5f5-4bf3-9b77-9e3f651bb628\",\"type\":\"BoxAnnotation\"},{\"attributes\":{},\"id\":\"f63ca255-c968-481e-ae42-175acae3f64f\",\"type\":\"BasicTickFormatter\"},{\"attributes\":{\"below\":[{\"id\":\"c26d8dac-a2db-442f-a1c4-48b76f784f46\",\"type\":\"LinearAxis\"}],\"left\":[{\"id\":\"e6b99d96-cf83-426b-9edd-f22460d7933e\",\"type\":\"LinearAxis\"}],\"plot_height\":400,\"plot_width\":400,\"renderers\":[{\"id\":\"c26d8dac-a2db-442f-a1c4-48b76f784f46\",\"type\":\"LinearAxis\"},{\"id\":\"37ea9438-0e46-4349-a329-4c2bc23bf82d\",\"type\":\"Grid\"},{\"id\":\"e6b99d96-cf83-426b-9edd-f22460d7933e\",\"type\":\"LinearAxis\"},{\"id\":\"8ea68220-ef12-42ea-8327-c2c0df90bf38\",\"type\":\"Grid\"},{\"id\":\"065d53a5-e5f5-4bf3-9b77-9e3f651bb628\",\"type\":\"BoxAnnotation\"},{\"id\":\"fac74995-5c11-4807-a735-a791f1d608eb\",\"type\":\"GlyphRenderer\"}],\"title\":{\"id\":\"0167120b-05ee-4436-9bb3-38958aeae46f\",\"type\":\"Title\"},\"toolbar\":{\"id\":\"6b3c9737-8989-48e9-b230-fcf70a0fec6b\",\"type\":\"Toolbar\"},\"x_range\":{\"id\":\"7090de60-cd8d-4a54-b2df-ed405a11541e\",\"type\":\"DataRange1d\"},\"x_scale\":{\"id\":\"9df29180-cda6-4e85-9a17-d39743f22327\",\"type\":\"LinearScale\"},\"y_range\":{\"id\":\"07b282ea-4915-41ce-9d75-dab42a002e92\",\"type\":\"DataRange1d\"},\"y_scale\":{\"id\":\"3086b5df-0241-4195-914a-64f3ed4709b2\",\"type\":\"LinearScale\"}},\"id\":\"d175e45c-9aea-446e-a92a-a3ae16557021\",\"subtype\":\"Figure\",\"type\":\"Plot\"},{\"attributes\":{},\"id\":\"aebfc510-3eab-41c2-a3f0-f315ef81c8db\",\"type\":\"BasicTickFormatter\"},{\"attributes\":{\"data_source\":{\"id\":\"26516bb3-5d3a-4ccb-a790-5bc60d273ee0\",\"type\":\"ColumnDataSource\"},\"glyph\":{\"id\":\"1482a8de-b679-41eb-a8cb-1f836ea4b0e1\",\"type\":\"Circle\"},\"hover_glyph\":null,\"muted_glyph\":null,\"nonselection_glyph\":{\"id\":\"ee771190-2c58-499d-a2e9-79d2ea890648\",\"type\":\"Circle\"},\"selection_glyph\":null,\"view\":{\"id\":\"104a1416-c04f-49b3-a5ed-386b30917242\",\"type\":\"CDSView\"}},\"id\":\"fac74995-5c11-4807-a735-a791f1d608eb\",\"type\":\"GlyphRenderer\"},{\"attributes\":{\"active_drag\":\"auto\",\"active_inspect\":\"auto\",\"active_scroll\":\"auto\",\"active_tap\":\"auto\",\"tools\":[{\"id\":\"5ace5356-70f7-4aa1-b002-17357391b21c\",\"type\":\"PanTool\"},{\"id\":\"76e1678f-dabe-4684-9e89-92dd3f8d0df0\",\"type\":\"WheelZoomTool\"},{\"id\":\"0e49567e-8019-4dc2-95d2-9e929d60c37e\",\"type\":\"BoxZoomTool\"},{\"id\":\"b52ee9ad-f9da-4d5e-884a-f03fb9371b34\",\"type\":\"SaveTool\"},{\"id\":\"5bf09f78-fc7d-467d-8b2f-72d680657d10\",\"type\":\"ResetTool\"},{\"id\":\"aa705743-4e5f-4126-9c45-1282d48cb0ce\",\"type\":\"HelpTool\"}]},\"id\":\"6b3c9737-8989-48e9-b230-fcf70a0fec6b\",\"type\":\"Toolbar\"},{\"attributes\":{\"callback\":null},\"id\":\"07b282ea-4915-41ce-9d75-dab42a002e92\",\"type\":\"DataRange1d\"},{\"attributes\":{},\"id\":\"408d4ee3-e437-4b09-b704-9abdbf0baf80\",\"type\":\"BasicTicker\"},{\"attributes\":{\"plot\":{\"id\":\"d175e45c-9aea-446e-a92a-a3ae16557021\",\"subtype\":\"Figure\",\"type\":\"Plot\"},\"ticker\":{\"id\":\"7b2c0475-d225-40a7-950b-54d2e1290dd4\",\"type\":\"BasicTicker\"}},\"id\":\"37ea9438-0e46-4349-a329-4c2bc23bf82d\",\"type\":\"Grid\"},{\"attributes\":{\"callback\":null},\"id\":\"7090de60-cd8d-4a54-b2df-ed405a11541e\",\"type\":\"DataRange1d\"},{\"attributes\":{},\"id\":\"5bf09f78-fc7d-467d-8b2f-72d680657d10\",\"type\":\"ResetTool\"},{\"attributes\":{\"callback\":null,\"column_names\":[\"x\",\"y\"],\"data\":{\"x\":[1,2,3,4,5],\"y\":[6,7,2,4,5]}},\"id\":\"26516bb3-5d3a-4ccb-a790-5bc60d273ee0\",\"type\":\"ColumnDataSource\"},{\"attributes\":{},\"id\":\"b52ee9ad-f9da-4d5e-884a-f03fb9371b34\",\"type\":\"SaveTool\"},{\"attributes\":{},\"id\":\"3086b5df-0241-4195-914a-64f3ed4709b2\",\"type\":\"LinearScale\"},{\"attributes\":{\"source\":{\"id\":\"26516bb3-5d3a-4ccb-a790-5bc60d273ee0\",\"type\":\"ColumnDataSource\"}},\"id\":\"104a1416-c04f-49b3-a5ed-386b30917242\",\"type\":\"CDSView\"},{\"attributes\":{\"formatter\":{\"id\":\"f63ca255-c968-481e-ae42-175acae3f64f\",\"type\":\"BasicTickFormatter\"},\"plot\":{\"id\":\"d175e45c-9aea-446e-a92a-a3ae16557021\",\"subtype\":\"Figure\",\"type\":\"Plot\"},\"ticker\":{\"id\":\"408d4ee3-e437-4b09-b704-9abdbf0baf80\",\"type\":\"BasicTicker\"}},\"id\":\"e6b99d96-cf83-426b-9edd-f22460d7933e\",\"type\":\"LinearAxis\"}],\"root_ids\":[\"d175e45c-9aea-446e-a92a-a3ae16557021\"]},\"title\":\"Bokeh Application\",\"version\":\"0.12.14\"}};\n",
       "  var render_items = [{\"docid\":\"4a25799f-1d35-43d2-8154-55dcec8200f1\",\"elementid\":\"84a427ca-f13c-48c6-aa53-1d15ffc7022e\",\"modelid\":\"d175e45c-9aea-446e-a92a-a3ae16557021\"}];\n",
       "  root.Bokeh.embed.embed_items_notebook(docs_json, render_items);\n",
       "\n",
       "  }\n",
       "  if (root.Bokeh !== undefined) {\n",
       "    embed_document(root);\n",
       "  } else {\n",
       "    var attempts = 0;\n",
       "    var timer = setInterval(function(root) {\n",
       "      if (root.Bokeh !== undefined) {\n",
       "        embed_document(root);\n",
       "        clearInterval(timer);\n",
       "      }\n",
       "      attempts++;\n",
       "      if (attempts > 100) {\n",
       "        console.log(\"Bokeh: ERROR: Unable to run BokehJS code because BokehJS library is missing\")\n",
       "        clearInterval(timer);\n",
       "      }\n",
       "    }, 10, root)\n",
       "  }\n",
       "})(window);"
      ],
      "application/vnd.bokehjs_exec.v0+json": ""
     },
     "metadata": {
      "application/vnd.bokehjs_exec.v0+json": {
       "id": "d175e45c-9aea-446e-a92a-a3ae16557021"
      }
     },
     "output_type": "display_data"
    }
   ],
   "source": [
    "# create a new plot with default tools, using figure\n",
    "p = figure(plot_width=400, plot_height=400)\n",
    "\n",
    "# add a circle renderer with a size, color, and alpha\n",
    "p.circle([1, 2, 3, 4, 5], [6, 7, 2, 4, 5], radius=.1, line_color=\"navy\", fill_color=\"orange\", fill_alpha=0.5)\n",
    "\n",
    "show(p) # show the results"
   ]
  },
  {
   "cell_type": "code",
   "execution_count": 11,
   "metadata": {},
   "outputs": [
    {
     "data": {
      "text/html": [
       "\n",
       "<div class=\"bk-root\">\n",
       "    <div class=\"bk-plotdiv\" id=\"f34864b8-d518-4de0-b2b2-caaa081236ff\"></div>\n",
       "</div>"
      ]
     },
     "metadata": {},
     "output_type": "display_data"
    },
    {
     "data": {
      "application/javascript": [
       "(function(root) {\n",
       "  function embed_document(root) {\n",
       "    \n",
       "  var docs_json = {\"29d63875-7b94-47f6-88e4-332dd95615c5\":{\"roots\":{\"references\":[{\"attributes\":{\"data_source\":{\"id\":\"530c72aa-4b56-465e-8f79-b6e6de85adbb\",\"type\":\"ColumnDataSource\"},\"glyph\":{\"id\":\"dc123de3-211c-49fc-aad2-916d5f19bf98\",\"type\":\"DiamondCross\"},\"hover_glyph\":null,\"muted_glyph\":null,\"nonselection_glyph\":{\"id\":\"3512bc6c-0e51-4d91-9828-8c7c1b5e97f1\",\"type\":\"DiamondCross\"},\"selection_glyph\":null,\"view\":{\"id\":\"402427eb-90f3-405c-a323-bed4f7253036\",\"type\":\"CDSView\"}},\"id\":\"9bfbe93b-8fce-45f5-9938-0b8d5049dd07\",\"type\":\"GlyphRenderer\"},{\"attributes\":{},\"id\":\"9a695a81-bda8-4df7-bb40-81445f2d6e9d\",\"type\":\"HelpTool\"},{\"attributes\":{\"fill_alpha\":{\"value\":0.6},\"fill_color\":{\"value\":\"firebrick\"},\"line_alpha\":{\"value\":0.6},\"line_color\":{\"value\":\"firebrick\"},\"size\":{\"field\":\"size\",\"units\":\"screen\"},\"x\":{\"field\":\"x\"},\"y\":{\"field\":\"y\"}},\"id\":\"dc123de3-211c-49fc-aad2-916d5f19bf98\",\"type\":\"DiamondCross\"},{\"attributes\":{\"overlay\":{\"id\":\"6824cef2-b124-4427-a0f2-a99033806640\",\"type\":\"BoxAnnotation\"}},\"id\":\"7d588672-e919-4220-8926-2fa13959e5ef\",\"type\":\"BoxZoomTool\"},{\"attributes\":{\"below\":[{\"id\":\"dfe6ac47-4866-4163-95c9-830ec2772261\",\"type\":\"LinearAxis\"}],\"left\":[{\"id\":\"5373aed5-2bb8-4fd5-8f4e-7a3a2604ec0a\",\"type\":\"LinearAxis\"}],\"plot_height\":400,\"plot_width\":400,\"renderers\":[{\"id\":\"dfe6ac47-4866-4163-95c9-830ec2772261\",\"type\":\"LinearAxis\"},{\"id\":\"c3856bfe-882d-44f8-a3cd-e43f5af998d8\",\"type\":\"Grid\"},{\"id\":\"5373aed5-2bb8-4fd5-8f4e-7a3a2604ec0a\",\"type\":\"LinearAxis\"},{\"id\":\"f1ca4cc2-cdd2-46c5-b56e-9d373e155025\",\"type\":\"Grid\"},{\"id\":\"6824cef2-b124-4427-a0f2-a99033806640\",\"type\":\"BoxAnnotation\"},{\"id\":\"9bfbe93b-8fce-45f5-9938-0b8d5049dd07\",\"type\":\"GlyphRenderer\"}],\"title\":{\"id\":\"f1152201-5a03-4746-a707-c57abfbb4fa9\",\"type\":\"Title\"},\"toolbar\":{\"id\":\"a01206ef-f618-44f6-a53a-8ba5ecc372dc\",\"type\":\"Toolbar\"},\"x_range\":{\"id\":\"295ec16a-b7dc-48d8-be62-475410e35816\",\"type\":\"DataRange1d\"},\"x_scale\":{\"id\":\"4ed2305c-5dce-4c89-8b45-350914a5a8d4\",\"type\":\"LinearScale\"},\"y_range\":{\"id\":\"b338bd05-91c9-4ce4-af3a-691a4c60922e\",\"type\":\"DataRange1d\"},\"y_scale\":{\"id\":\"74bed268-d5bb-4578-9c19-c7c721f191a3\",\"type\":\"LinearScale\"}},\"id\":\"d5ae408a-e917-4888-81cd-d409c851b39e\",\"subtype\":\"Figure\",\"type\":\"Plot\"},{\"attributes\":{\"callback\":null},\"id\":\"295ec16a-b7dc-48d8-be62-475410e35816\",\"type\":\"DataRange1d\"},{\"attributes\":{},\"id\":\"36ca844c-506c-4f3e-8a02-c84155402485\",\"type\":\"SaveTool\"},{\"attributes\":{\"bottom_units\":\"screen\",\"fill_alpha\":{\"value\":0.5},\"fill_color\":{\"value\":\"lightgrey\"},\"left_units\":\"screen\",\"level\":\"overlay\",\"line_alpha\":{\"value\":1.0},\"line_color\":{\"value\":\"black\"},\"line_dash\":[4,4],\"line_width\":{\"value\":2},\"plot\":null,\"render_mode\":\"css\",\"right_units\":\"screen\",\"top_units\":\"screen\"},\"id\":\"6824cef2-b124-4427-a0f2-a99033806640\",\"type\":\"BoxAnnotation\"},{\"attributes\":{},\"id\":\"7bf06a2c-18be-40c6-a7c6-8fb379a70299\",\"type\":\"BasicTickFormatter\"},{\"attributes\":{},\"id\":\"fbe50961-4ead-41a3-aece-3564be93de98\",\"type\":\"BasicTickFormatter\"},{\"attributes\":{},\"id\":\"f2b9ad47-0103-4777-ab80-ad7d9c9bc2dd\",\"type\":\"BasicTicker\"},{\"attributes\":{\"dimension\":1,\"plot\":{\"id\":\"d5ae408a-e917-4888-81cd-d409c851b39e\",\"subtype\":\"Figure\",\"type\":\"Plot\"},\"ticker\":{\"id\":\"f2b9ad47-0103-4777-ab80-ad7d9c9bc2dd\",\"type\":\"BasicTicker\"}},\"id\":\"f1ca4cc2-cdd2-46c5-b56e-9d373e155025\",\"type\":\"Grid\"},{\"attributes\":{\"fill_alpha\":{\"value\":0.1},\"fill_color\":{\"value\":\"#1f77b4\"},\"line_alpha\":{\"value\":0.1},\"line_color\":{\"value\":\"#1f77b4\"},\"size\":{\"field\":\"size\",\"units\":\"screen\"},\"x\":{\"field\":\"x\"},\"y\":{\"field\":\"y\"}},\"id\":\"3512bc6c-0e51-4d91-9828-8c7c1b5e97f1\",\"type\":\"DiamondCross\"},{\"attributes\":{\"source\":{\"id\":\"530c72aa-4b56-465e-8f79-b6e6de85adbb\",\"type\":\"ColumnDataSource\"}},\"id\":\"402427eb-90f3-405c-a323-bed4f7253036\",\"type\":\"CDSView\"},{\"attributes\":{},\"id\":\"4ed2305c-5dce-4c89-8b45-350914a5a8d4\",\"type\":\"LinearScale\"},{\"attributes\":{},\"id\":\"ffa19992-553a-437e-9cc0-3bd68d2b0a77\",\"type\":\"BasicTicker\"},{\"attributes\":{\"callback\":null},\"id\":\"b338bd05-91c9-4ce4-af3a-691a4c60922e\",\"type\":\"DataRange1d\"},{\"attributes\":{},\"id\":\"ced52016-b22e-4dd8-98cf-c45403cdf28e\",\"type\":\"ResetTool\"},{\"attributes\":{},\"id\":\"8ce681c9-14a0-42b5-9165-10c4d879e203\",\"type\":\"WheelZoomTool\"},{\"attributes\":{\"callback\":null,\"column_names\":[\"x\",\"y\",\"size\"],\"data\":{\"size\":[10,15,20,25,30],\"x\":[1,2,3,4,5],\"y\":[6,7,2,4,5]}},\"id\":\"530c72aa-4b56-465e-8f79-b6e6de85adbb\",\"type\":\"ColumnDataSource\"},{\"attributes\":{},\"id\":\"74bed268-d5bb-4578-9c19-c7c721f191a3\",\"type\":\"LinearScale\"},{\"attributes\":{\"plot\":{\"id\":\"d5ae408a-e917-4888-81cd-d409c851b39e\",\"subtype\":\"Figure\",\"type\":\"Plot\"},\"ticker\":{\"id\":\"ffa19992-553a-437e-9cc0-3bd68d2b0a77\",\"type\":\"BasicTicker\"}},\"id\":\"c3856bfe-882d-44f8-a3cd-e43f5af998d8\",\"type\":\"Grid\"},{\"attributes\":{\"formatter\":{\"id\":\"fbe50961-4ead-41a3-aece-3564be93de98\",\"type\":\"BasicTickFormatter\"},\"plot\":{\"id\":\"d5ae408a-e917-4888-81cd-d409c851b39e\",\"subtype\":\"Figure\",\"type\":\"Plot\"},\"ticker\":{\"id\":\"ffa19992-553a-437e-9cc0-3bd68d2b0a77\",\"type\":\"BasicTicker\"}},\"id\":\"dfe6ac47-4866-4163-95c9-830ec2772261\",\"type\":\"LinearAxis\"},{\"attributes\":{},\"id\":\"b4eb1cc9-e0ab-44a5-b130-4a3b78b087eb\",\"type\":\"PanTool\"},{\"attributes\":{\"formatter\":{\"id\":\"7bf06a2c-18be-40c6-a7c6-8fb379a70299\",\"type\":\"BasicTickFormatter\"},\"plot\":{\"id\":\"d5ae408a-e917-4888-81cd-d409c851b39e\",\"subtype\":\"Figure\",\"type\":\"Plot\"},\"ticker\":{\"id\":\"f2b9ad47-0103-4777-ab80-ad7d9c9bc2dd\",\"type\":\"BasicTicker\"}},\"id\":\"5373aed5-2bb8-4fd5-8f4e-7a3a2604ec0a\",\"type\":\"LinearAxis\"},{\"attributes\":{\"active_drag\":\"auto\",\"active_inspect\":\"auto\",\"active_scroll\":\"auto\",\"active_tap\":\"auto\",\"tools\":[{\"id\":\"b4eb1cc9-e0ab-44a5-b130-4a3b78b087eb\",\"type\":\"PanTool\"},{\"id\":\"8ce681c9-14a0-42b5-9165-10c4d879e203\",\"type\":\"WheelZoomTool\"},{\"id\":\"7d588672-e919-4220-8926-2fa13959e5ef\",\"type\":\"BoxZoomTool\"},{\"id\":\"36ca844c-506c-4f3e-8a02-c84155402485\",\"type\":\"SaveTool\"},{\"id\":\"ced52016-b22e-4dd8-98cf-c45403cdf28e\",\"type\":\"ResetTool\"},{\"id\":\"9a695a81-bda8-4df7-bb40-81445f2d6e9d\",\"type\":\"HelpTool\"}]},\"id\":\"a01206ef-f618-44f6-a53a-8ba5ecc372dc\",\"type\":\"Toolbar\"},{\"attributes\":{\"plot\":null,\"text\":\"\"},\"id\":\"f1152201-5a03-4746-a707-c57abfbb4fa9\",\"type\":\"Title\"}],\"root_ids\":[\"d5ae408a-e917-4888-81cd-d409c851b39e\"]},\"title\":\"Bokeh Application\",\"version\":\"0.12.14\"}};\n",
       "  var render_items = [{\"docid\":\"29d63875-7b94-47f6-88e4-332dd95615c5\",\"elementid\":\"f34864b8-d518-4de0-b2b2-caaa081236ff\",\"modelid\":\"d5ae408a-e917-4888-81cd-d409c851b39e\"}];\n",
       "  root.Bokeh.embed.embed_items_notebook(docs_json, render_items);\n",
       "\n",
       "  }\n",
       "  if (root.Bokeh !== undefined) {\n",
       "    embed_document(root);\n",
       "  } else {\n",
       "    var attempts = 0;\n",
       "    var timer = setInterval(function(root) {\n",
       "      if (root.Bokeh !== undefined) {\n",
       "        embed_document(root);\n",
       "        clearInterval(timer);\n",
       "      }\n",
       "      attempts++;\n",
       "      if (attempts > 100) {\n",
       "        console.log(\"Bokeh: ERROR: Unable to run BokehJS code because BokehJS library is missing\")\n",
       "        clearInterval(timer);\n",
       "      }\n",
       "    }, 10, root)\n",
       "  }\n",
       "})(window);"
      ],
      "application/vnd.bokehjs_exec.v0+json": ""
     },
     "metadata": {
      "application/vnd.bokehjs_exec.v0+json": {
       "id": "d5ae408a-e917-4888-81cd-d409c851b39e"
      }
     },
     "output_type": "display_data"
    }
   ],
   "source": [
    "# create a new plot using figure\n",
    "p = figure(plot_width=400, plot_height=400)\n",
    "\n",
    "# add a square renderer with a size, color, alpha, and sizes\n",
    "p.diamond_cross([1, 2, 3, 4, 5], [6, 7, 2, 4, 5], size=[10, 15, 20, 25, 30], color=\"firebrick\", alpha=0.6)\n",
    "\n",
    "show(p) # show the results"
   ]
  },
  {
   "cell_type": "code",
   "execution_count": 12,
   "metadata": {},
   "outputs": [
    {
     "data": {
      "text/html": [
       "\n",
       "<div class=\"bk-root\">\n",
       "    <div class=\"bk-plotdiv\" id=\"4f65d222-966c-4af4-b0fe-b5af0e7fe5cc\"></div>\n",
       "</div>"
      ]
     },
     "metadata": {},
     "output_type": "display_data"
    },
    {
     "data": {
      "application/javascript": [
       "(function(root) {\n",
       "  function embed_document(root) {\n",
       "    \n",
       "  var docs_json = {\"10e53e20-8575-46fb-8f40-256f5d1df7ce\":{\"roots\":{\"references\":[{\"attributes\":{},\"id\":\"6d4598ba-1476-4b0d-8361-1f1b77b20d5d\",\"type\":\"LinearScale\"},{\"attributes\":{},\"id\":\"4927dd82-08b5-4c82-aeef-0c65b8e2d35c\",\"type\":\"BasicTicker\"},{\"attributes\":{\"line_color\":\"#1f77b4\",\"line_width\":2,\"x\":{\"field\":\"x\"},\"y\":{\"field\":\"y\"}},\"id\":\"497ef52b-b9ee-4003-b19b-669e425aeac0\",\"type\":\"Line\"},{\"attributes\":{\"below\":[{\"id\":\"c32982a4-5781-4c87-ba4a-70e9b121bebe\",\"type\":\"LinearAxis\"}],\"left\":[{\"id\":\"65b0289b-554d-43fa-b8e7-34fc6699ea65\",\"type\":\"LinearAxis\"}],\"plot_height\":400,\"plot_width\":400,\"renderers\":[{\"id\":\"c32982a4-5781-4c87-ba4a-70e9b121bebe\",\"type\":\"LinearAxis\"},{\"id\":\"7e593091-4ed9-4d0f-9279-8f2825c92e39\",\"type\":\"Grid\"},{\"id\":\"65b0289b-554d-43fa-b8e7-34fc6699ea65\",\"type\":\"LinearAxis\"},{\"id\":\"3f495c52-bf37-4c76-94bc-168fa9c9b37d\",\"type\":\"Grid\"},{\"id\":\"51cc7848-03da-4a54-a278-b6edf960fa70\",\"type\":\"BoxAnnotation\"},{\"id\":\"9b735335-37db-4556-a6a0-5e17844a1932\",\"type\":\"GlyphRenderer\"}],\"title\":{\"id\":\"564ed541-5657-4fcf-833a-c4197e4f1c95\",\"type\":\"Title\"},\"toolbar\":{\"id\":\"39875f82-c424-4976-8fbe-425f2e97aa66\",\"type\":\"Toolbar\"},\"x_range\":{\"id\":\"914e18a3-a88c-4a51-bab6-89230ef43e7b\",\"type\":\"DataRange1d\"},\"x_scale\":{\"id\":\"b9cc1b1e-4f3f-499d-8c7d-5b57829ed27e\",\"type\":\"LinearScale\"},\"y_range\":{\"id\":\"554903cc-4eee-4127-8775-592b6a9fbde3\",\"type\":\"DataRange1d\"},\"y_scale\":{\"id\":\"6d4598ba-1476-4b0d-8361-1f1b77b20d5d\",\"type\":\"LinearScale\"}},\"id\":\"20428585-066d-4078-9caa-e573a3299c36\",\"subtype\":\"Figure\",\"type\":\"Plot\"},{\"attributes\":{\"plot\":{\"id\":\"20428585-066d-4078-9caa-e573a3299c36\",\"subtype\":\"Figure\",\"type\":\"Plot\"},\"ticker\":{\"id\":\"4927dd82-08b5-4c82-aeef-0c65b8e2d35c\",\"type\":\"BasicTicker\"}},\"id\":\"7e593091-4ed9-4d0f-9279-8f2825c92e39\",\"type\":\"Grid\"},{\"attributes\":{\"dimension\":1,\"plot\":{\"id\":\"20428585-066d-4078-9caa-e573a3299c36\",\"subtype\":\"Figure\",\"type\":\"Plot\"},\"ticker\":{\"id\":\"8187384a-8707-4c1e-94d2-88369cd9f16e\",\"type\":\"BasicTicker\"}},\"id\":\"3f495c52-bf37-4c76-94bc-168fa9c9b37d\",\"type\":\"Grid\"},{\"attributes\":{},\"id\":\"d71a1bfe-af07-4596-86ee-105a3f0e490d\",\"type\":\"BasicTickFormatter\"},{\"attributes\":{},\"id\":\"b9cc1b1e-4f3f-499d-8c7d-5b57829ed27e\",\"type\":\"LinearScale\"},{\"attributes\":{\"plot\":null,\"text\":\"My Line Plot\"},\"id\":\"564ed541-5657-4fcf-833a-c4197e4f1c95\",\"type\":\"Title\"},{\"attributes\":{},\"id\":\"f19dde9f-b15f-4150-9573-ada8b38761e8\",\"type\":\"ResetTool\"},{\"attributes\":{},\"id\":\"f81b86d4-4383-48c4-b1ac-c90788994420\",\"type\":\"PanTool\"},{\"attributes\":{\"formatter\":{\"id\":\"d71a1bfe-af07-4596-86ee-105a3f0e490d\",\"type\":\"BasicTickFormatter\"},\"plot\":{\"id\":\"20428585-066d-4078-9caa-e573a3299c36\",\"subtype\":\"Figure\",\"type\":\"Plot\"},\"ticker\":{\"id\":\"4927dd82-08b5-4c82-aeef-0c65b8e2d35c\",\"type\":\"BasicTicker\"}},\"id\":\"c32982a4-5781-4c87-ba4a-70e9b121bebe\",\"type\":\"LinearAxis\"},{\"attributes\":{\"data_source\":{\"id\":\"5ca5d127-0715-427c-ae1d-8a82ac2db2c4\",\"type\":\"ColumnDataSource\"},\"glyph\":{\"id\":\"497ef52b-b9ee-4003-b19b-669e425aeac0\",\"type\":\"Line\"},\"hover_glyph\":null,\"muted_glyph\":null,\"nonselection_glyph\":{\"id\":\"b3edc591-fe97-46e9-8c06-def2d5958f14\",\"type\":\"Line\"},\"selection_glyph\":null,\"view\":{\"id\":\"99047552-8a0f-4222-ab37-0a46f57987df\",\"type\":\"CDSView\"}},\"id\":\"9b735335-37db-4556-a6a0-5e17844a1932\",\"type\":\"GlyphRenderer\"},{\"attributes\":{\"callback\":null},\"id\":\"554903cc-4eee-4127-8775-592b6a9fbde3\",\"type\":\"DataRange1d\"},{\"attributes\":{},\"id\":\"fa974e8c-072a-4f49-8e30-7470834943ce\",\"type\":\"SaveTool\"},{\"attributes\":{\"callback\":null},\"id\":\"914e18a3-a88c-4a51-bab6-89230ef43e7b\",\"type\":\"DataRange1d\"},{\"attributes\":{\"overlay\":{\"id\":\"51cc7848-03da-4a54-a278-b6edf960fa70\",\"type\":\"BoxAnnotation\"}},\"id\":\"089db109-6029-4677-b70f-73f1ade1fc45\",\"type\":\"BoxZoomTool\"},{\"attributes\":{},\"id\":\"8cf4c715-73c5-4603-8582-e14df4debfb8\",\"type\":\"WheelZoomTool\"},{\"attributes\":{\"callback\":null,\"column_names\":[\"x\",\"y\"],\"data\":{\"x\":[1,2,3,4,5],\"y\":[6,7,2,4,5]}},\"id\":\"5ca5d127-0715-427c-ae1d-8a82ac2db2c4\",\"type\":\"ColumnDataSource\"},{\"attributes\":{},\"id\":\"0b10ffeb-71f0-451b-9d45-648bfa6339f5\",\"type\":\"HelpTool\"},{\"attributes\":{\"source\":{\"id\":\"5ca5d127-0715-427c-ae1d-8a82ac2db2c4\",\"type\":\"ColumnDataSource\"}},\"id\":\"99047552-8a0f-4222-ab37-0a46f57987df\",\"type\":\"CDSView\"},{\"attributes\":{\"active_drag\":\"auto\",\"active_inspect\":\"auto\",\"active_scroll\":\"auto\",\"active_tap\":\"auto\",\"tools\":[{\"id\":\"f81b86d4-4383-48c4-b1ac-c90788994420\",\"type\":\"PanTool\"},{\"id\":\"8cf4c715-73c5-4603-8582-e14df4debfb8\",\"type\":\"WheelZoomTool\"},{\"id\":\"089db109-6029-4677-b70f-73f1ade1fc45\",\"type\":\"BoxZoomTool\"},{\"id\":\"fa974e8c-072a-4f49-8e30-7470834943ce\",\"type\":\"SaveTool\"},{\"id\":\"f19dde9f-b15f-4150-9573-ada8b38761e8\",\"type\":\"ResetTool\"},{\"id\":\"0b10ffeb-71f0-451b-9d45-648bfa6339f5\",\"type\":\"HelpTool\"}]},\"id\":\"39875f82-c424-4976-8fbe-425f2e97aa66\",\"type\":\"Toolbar\"},{\"attributes\":{\"bottom_units\":\"screen\",\"fill_alpha\":{\"value\":0.5},\"fill_color\":{\"value\":\"lightgrey\"},\"left_units\":\"screen\",\"level\":\"overlay\",\"line_alpha\":{\"value\":1.0},\"line_color\":{\"value\":\"black\"},\"line_dash\":[4,4],\"line_width\":{\"value\":2},\"plot\":null,\"render_mode\":\"css\",\"right_units\":\"screen\",\"top_units\":\"screen\"},\"id\":\"51cc7848-03da-4a54-a278-b6edf960fa70\",\"type\":\"BoxAnnotation\"},{\"attributes\":{},\"id\":\"8187384a-8707-4c1e-94d2-88369cd9f16e\",\"type\":\"BasicTicker\"},{\"attributes\":{},\"id\":\"2ad47b0d-abb1-4aa1-9151-1547d6eec6a0\",\"type\":\"BasicTickFormatter\"},{\"attributes\":{\"formatter\":{\"id\":\"2ad47b0d-abb1-4aa1-9151-1547d6eec6a0\",\"type\":\"BasicTickFormatter\"},\"plot\":{\"id\":\"20428585-066d-4078-9caa-e573a3299c36\",\"subtype\":\"Figure\",\"type\":\"Plot\"},\"ticker\":{\"id\":\"8187384a-8707-4c1e-94d2-88369cd9f16e\",\"type\":\"BasicTicker\"}},\"id\":\"65b0289b-554d-43fa-b8e7-34fc6699ea65\",\"type\":\"LinearAxis\"},{\"attributes\":{\"line_alpha\":0.1,\"line_color\":\"#1f77b4\",\"line_width\":2,\"x\":{\"field\":\"x\"},\"y\":{\"field\":\"y\"}},\"id\":\"b3edc591-fe97-46e9-8c06-def2d5958f14\",\"type\":\"Line\"}],\"root_ids\":[\"20428585-066d-4078-9caa-e573a3299c36\"]},\"title\":\"Bokeh Application\",\"version\":\"0.12.14\"}};\n",
       "  var render_items = [{\"docid\":\"10e53e20-8575-46fb-8f40-256f5d1df7ce\",\"elementid\":\"4f65d222-966c-4af4-b0fe-b5af0e7fe5cc\",\"modelid\":\"20428585-066d-4078-9caa-e573a3299c36\"}];\n",
       "  root.Bokeh.embed.embed_items_notebook(docs_json, render_items);\n",
       "\n",
       "  }\n",
       "  if (root.Bokeh !== undefined) {\n",
       "    embed_document(root);\n",
       "  } else {\n",
       "    var attempts = 0;\n",
       "    var timer = setInterval(function(root) {\n",
       "      if (root.Bokeh !== undefined) {\n",
       "        embed_document(root);\n",
       "        clearInterval(timer);\n",
       "      }\n",
       "      attempts++;\n",
       "      if (attempts > 100) {\n",
       "        console.log(\"Bokeh: ERROR: Unable to run BokehJS code because BokehJS library is missing\")\n",
       "        clearInterval(timer);\n",
       "      }\n",
       "    }, 10, root)\n",
       "  }\n",
       "})(window);"
      ],
      "application/vnd.bokehjs_exec.v0+json": ""
     },
     "metadata": {
      "application/vnd.bokehjs_exec.v0+json": {
       "id": "20428585-066d-4078-9caa-e573a3299c36"
      }
     },
     "output_type": "display_data"
    }
   ],
   "source": [
    "# create a new plot (with a title) using figure\n",
    "p = figure(plot_width=400, plot_height=400, title=\"My Line Plot\")\n",
    "\n",
    "# add a line renderer\n",
    "p.line([1, 2, 3, 4, 5], [6, 7, 2, 4, 5], line_width=2)\n",
    "\n",
    "show(p) # show the results"
   ]
  },
  {
   "cell_type": "code",
   "execution_count": 15,
   "metadata": {},
   "outputs": [
    {
     "data": {
      "text/html": [
       "\n",
       "<div class=\"bk-root\">\n",
       "    <div class=\"bk-plotdiv\" id=\"4d892e42-0c7e-4ae4-a3ac-871a95219452\"></div>\n",
       "</div>"
      ]
     },
     "metadata": {},
     "output_type": "display_data"
    },
    {
     "data": {
      "application/javascript": [
       "(function(root) {\n",
       "  function embed_document(root) {\n",
       "    \n",
       "  var docs_json = {\"96584e72-b7ca-4781-95ca-680473c039bc\":{\"roots\":{\"references\":[{\"attributes\":{\"line_alpha\":{\"value\":0.1},\"line_color\":{\"value\":\"#1f77b4\"},\"line_width\":{\"value\":2},\"mode\":\"center\",\"x\":{\"field\":\"x\"},\"y\":{\"field\":\"y\"}},\"id\":\"3e58620f-25dc-4ec1-a346-b9edcce6f152\",\"type\":\"Step\"},{\"attributes\":{\"plot\":null,\"text\":\"\"},\"id\":\"16a9f240-6890-45c2-8b27-077262bb87bf\",\"type\":\"Title\"},{\"attributes\":{},\"id\":\"6f7be212-c4d5-496c-8cee-dcb8d610b1cf\",\"type\":\"ResetTool\"},{\"attributes\":{\"callback\":null},\"id\":\"5d920456-f4fa-4f5f-802a-84ba06c5765b\",\"type\":\"DataRange1d\"},{\"attributes\":{\"below\":[{\"id\":\"f783e00c-af3b-461d-b85b-804a03dc77bd\",\"type\":\"LinearAxis\"}],\"left\":[{\"id\":\"a94a047d-1fa6-40d2-a706-6cfca74e496d\",\"type\":\"LinearAxis\"}],\"plot_height\":400,\"plot_width\":400,\"renderers\":[{\"id\":\"f783e00c-af3b-461d-b85b-804a03dc77bd\",\"type\":\"LinearAxis\"},{\"id\":\"15021f1f-265a-4396-b3d7-da3236d81f57\",\"type\":\"Grid\"},{\"id\":\"a94a047d-1fa6-40d2-a706-6cfca74e496d\",\"type\":\"LinearAxis\"},{\"id\":\"9cfd73f5-bb5d-43f5-86a3-6926c42fcbca\",\"type\":\"Grid\"},{\"id\":\"00b1bb3e-01ac-42a0-bfa7-9b9625335ef0\",\"type\":\"BoxAnnotation\"},{\"id\":\"93b0e7af-98e8-4bc9-b268-2e4eedd50e79\",\"type\":\"GlyphRenderer\"}],\"title\":{\"id\":\"16a9f240-6890-45c2-8b27-077262bb87bf\",\"type\":\"Title\"},\"toolbar\":{\"id\":\"0a836bad-f50a-4795-935d-1a6597b53183\",\"type\":\"Toolbar\"},\"x_range\":{\"id\":\"7219526c-1ec4-48a8-af41-66ee40f54948\",\"type\":\"DataRange1d\"},\"x_scale\":{\"id\":\"1d28e1bb-3e94-4102-b9f3-a41745bc2d81\",\"type\":\"LinearScale\"},\"y_range\":{\"id\":\"5d920456-f4fa-4f5f-802a-84ba06c5765b\",\"type\":\"DataRange1d\"},\"y_scale\":{\"id\":\"a32ae677-75c5-47ff-ba4e-97cab718a0f6\",\"type\":\"LinearScale\"}},\"id\":\"cf093f70-bda5-4492-9bd2-583dd048e71e\",\"subtype\":\"Figure\",\"type\":\"Plot\"},{\"attributes\":{\"bottom_units\":\"screen\",\"fill_alpha\":{\"value\":0.5},\"fill_color\":{\"value\":\"lightgrey\"},\"left_units\":\"screen\",\"level\":\"overlay\",\"line_alpha\":{\"value\":1.0},\"line_color\":{\"value\":\"black\"},\"line_dash\":[4,4],\"line_width\":{\"value\":2},\"plot\":null,\"render_mode\":\"css\",\"right_units\":\"screen\",\"top_units\":\"screen\"},\"id\":\"00b1bb3e-01ac-42a0-bfa7-9b9625335ef0\",\"type\":\"BoxAnnotation\"},{\"attributes\":{},\"id\":\"b6adfdf3-74c7-43e1-a85c-b409dc0b8834\",\"type\":\"BasicTickFormatter\"},{\"attributes\":{\"active_drag\":\"auto\",\"active_inspect\":\"auto\",\"active_scroll\":\"auto\",\"active_tap\":\"auto\",\"tools\":[{\"id\":\"bdd035bc-cd03-4234-a214-6cbe78a28198\",\"type\":\"PanTool\"},{\"id\":\"fda34421-b2fb-40de-bcd4-b4552120c313\",\"type\":\"WheelZoomTool\"},{\"id\":\"d5b4fc43-61a4-464a-9400-945f796198e1\",\"type\":\"BoxZoomTool\"},{\"id\":\"1fa6b536-359a-46c8-b01e-414b570ac61c\",\"type\":\"SaveTool\"},{\"id\":\"6f7be212-c4d5-496c-8cee-dcb8d610b1cf\",\"type\":\"ResetTool\"},{\"id\":\"2c72f17c-85a6-49db-81d8-7b853c618550\",\"type\":\"HelpTool\"}]},\"id\":\"0a836bad-f50a-4795-935d-1a6597b53183\",\"type\":\"Toolbar\"},{\"attributes\":{},\"id\":\"37652009-380b-435f-a07d-37c42c17d5c9\",\"type\":\"BasicTicker\"},{\"attributes\":{\"line_color\":{\"value\":\"#1f77b4\"},\"line_width\":{\"value\":2},\"mode\":\"center\",\"x\":{\"field\":\"x\"},\"y\":{\"field\":\"y\"}},\"id\":\"b2a84290-10df-472d-a292-34f4dba48e3b\",\"type\":\"Step\"},{\"attributes\":{\"formatter\":{\"id\":\"b6adfdf3-74c7-43e1-a85c-b409dc0b8834\",\"type\":\"BasicTickFormatter\"},\"plot\":{\"id\":\"cf093f70-bda5-4492-9bd2-583dd048e71e\",\"subtype\":\"Figure\",\"type\":\"Plot\"},\"ticker\":{\"id\":\"4facd7b8-ddc5-4b77-933e-d61356708101\",\"type\":\"BasicTicker\"}},\"id\":\"a94a047d-1fa6-40d2-a706-6cfca74e496d\",\"type\":\"LinearAxis\"},{\"attributes\":{\"plot\":{\"id\":\"cf093f70-bda5-4492-9bd2-583dd048e71e\",\"subtype\":\"Figure\",\"type\":\"Plot\"},\"ticker\":{\"id\":\"37652009-380b-435f-a07d-37c42c17d5c9\",\"type\":\"BasicTicker\"}},\"id\":\"15021f1f-265a-4396-b3d7-da3236d81f57\",\"type\":\"Grid\"},{\"attributes\":{},\"id\":\"a32ae677-75c5-47ff-ba4e-97cab718a0f6\",\"type\":\"LinearScale\"},{\"attributes\":{},\"id\":\"2c72f17c-85a6-49db-81d8-7b853c618550\",\"type\":\"HelpTool\"},{\"attributes\":{},\"id\":\"1d28e1bb-3e94-4102-b9f3-a41745bc2d81\",\"type\":\"LinearScale\"},{\"attributes\":{},\"id\":\"4facd7b8-ddc5-4b77-933e-d61356708101\",\"type\":\"BasicTicker\"},{\"attributes\":{\"source\":{\"id\":\"7a42cdc2-2012-4c86-acce-59fb9b829b0a\",\"type\":\"ColumnDataSource\"}},\"id\":\"88900fde-3b8a-45f7-b056-0c961049f54e\",\"type\":\"CDSView\"},{\"attributes\":{},\"id\":\"d71c68b0-1312-4b1c-a3f9-9ba3c1fa2fcc\",\"type\":\"BasicTickFormatter\"},{\"attributes\":{},\"id\":\"1fa6b536-359a-46c8-b01e-414b570ac61c\",\"type\":\"SaveTool\"},{\"attributes\":{\"dimension\":1,\"plot\":{\"id\":\"cf093f70-bda5-4492-9bd2-583dd048e71e\",\"subtype\":\"Figure\",\"type\":\"Plot\"},\"ticker\":{\"id\":\"4facd7b8-ddc5-4b77-933e-d61356708101\",\"type\":\"BasicTicker\"}},\"id\":\"9cfd73f5-bb5d-43f5-86a3-6926c42fcbca\",\"type\":\"Grid\"},{\"attributes\":{\"callback\":null},\"id\":\"7219526c-1ec4-48a8-af41-66ee40f54948\",\"type\":\"DataRange1d\"},{\"attributes\":{\"formatter\":{\"id\":\"d71c68b0-1312-4b1c-a3f9-9ba3c1fa2fcc\",\"type\":\"BasicTickFormatter\"},\"plot\":{\"id\":\"cf093f70-bda5-4492-9bd2-583dd048e71e\",\"subtype\":\"Figure\",\"type\":\"Plot\"},\"ticker\":{\"id\":\"37652009-380b-435f-a07d-37c42c17d5c9\",\"type\":\"BasicTicker\"}},\"id\":\"f783e00c-af3b-461d-b85b-804a03dc77bd\",\"type\":\"LinearAxis\"},{\"attributes\":{},\"id\":\"fda34421-b2fb-40de-bcd4-b4552120c313\",\"type\":\"WheelZoomTool\"},{\"attributes\":{\"callback\":null,\"column_names\":[\"x\",\"y\"],\"data\":{\"x\":[1,2,3,4,5],\"y\":[6,7,2,4,5]}},\"id\":\"7a42cdc2-2012-4c86-acce-59fb9b829b0a\",\"type\":\"ColumnDataSource\"},{\"attributes\":{\"overlay\":{\"id\":\"00b1bb3e-01ac-42a0-bfa7-9b9625335ef0\",\"type\":\"BoxAnnotation\"}},\"id\":\"d5b4fc43-61a4-464a-9400-945f796198e1\",\"type\":\"BoxZoomTool\"},{\"attributes\":{},\"id\":\"bdd035bc-cd03-4234-a214-6cbe78a28198\",\"type\":\"PanTool\"},{\"attributes\":{\"data_source\":{\"id\":\"7a42cdc2-2012-4c86-acce-59fb9b829b0a\",\"type\":\"ColumnDataSource\"},\"glyph\":{\"id\":\"b2a84290-10df-472d-a292-34f4dba48e3b\",\"type\":\"Step\"},\"hover_glyph\":null,\"muted_glyph\":null,\"nonselection_glyph\":{\"id\":\"3e58620f-25dc-4ec1-a346-b9edcce6f152\",\"type\":\"Step\"},\"selection_glyph\":null,\"view\":{\"id\":\"88900fde-3b8a-45f7-b056-0c961049f54e\",\"type\":\"CDSView\"}},\"id\":\"93b0e7af-98e8-4bc9-b268-2e4eedd50e79\",\"type\":\"GlyphRenderer\"}],\"root_ids\":[\"cf093f70-bda5-4492-9bd2-583dd048e71e\"]},\"title\":\"Bokeh Application\",\"version\":\"0.12.14\"}};\n",
       "  var render_items = [{\"docid\":\"96584e72-b7ca-4781-95ca-680473c039bc\",\"elementid\":\"4d892e42-0c7e-4ae4-a3ac-871a95219452\",\"modelid\":\"cf093f70-bda5-4492-9bd2-583dd048e71e\"}];\n",
       "  root.Bokeh.embed.embed_items_notebook(docs_json, render_items);\n",
       "\n",
       "  }\n",
       "  if (root.Bokeh !== undefined) {\n",
       "    embed_document(root);\n",
       "  } else {\n",
       "    var attempts = 0;\n",
       "    var timer = setInterval(function(root) {\n",
       "      if (root.Bokeh !== undefined) {\n",
       "        embed_document(root);\n",
       "        clearInterval(timer);\n",
       "      }\n",
       "      attempts++;\n",
       "      if (attempts > 100) {\n",
       "        console.log(\"Bokeh: ERROR: Unable to run BokehJS code because BokehJS library is missing\")\n",
       "        clearInterval(timer);\n",
       "      }\n",
       "    }, 10, root)\n",
       "  }\n",
       "})(window);"
      ],
      "application/vnd.bokehjs_exec.v0+json": ""
     },
     "metadata": {
      "application/vnd.bokehjs_exec.v0+json": {
       "id": "cf093f70-bda5-4492-9bd2-583dd048e71e"
      }
     },
     "output_type": "display_data"
    }
   ],
   "source": [
    "from bokeh.plotting import figure, output_file, show\n",
    "\n",
    "#output_file(\"line.html\")\n",
    "\n",
    "p = figure(plot_width=400, plot_height=400)\n",
    "\n",
    "# add a steps renderer\n",
    "p.step([1, 2, 3, 4, 5], [6, 7, 2, 4, 5], line_width=2, mode=\"center\")\n",
    "\n",
    "show(p)"
   ]
  },
  {
   "cell_type": "code",
   "execution_count": 13,
   "metadata": {},
   "outputs": [
    {
     "data": {
      "text/html": [
       "\n",
       "<div class=\"bk-root\">\n",
       "    <div class=\"bk-plotdiv\" id=\"cbe8281d-0320-4ef9-b739-441e0bae1415\"></div>\n",
       "</div>"
      ]
     },
     "metadata": {},
     "output_type": "display_data"
    },
    {
     "data": {
      "application/javascript": [
       "(function(root) {\n",
       "  function embed_document(root) {\n",
       "    \n",
       "  var docs_json = {\"9398f556-c6eb-417b-914e-13aabd11c205\":{\"roots\":{\"references\":[{\"attributes\":{\"active_drag\":\"auto\",\"active_inspect\":\"auto\",\"active_scroll\":\"auto\",\"active_tap\":\"auto\",\"tools\":[{\"id\":\"96f878a0-3743-4389-b99a-a4d30d110a6d\",\"type\":\"PanTool\"},{\"id\":\"97362232-265f-4fe5-b2d0-be05f6e4eeba\",\"type\":\"WheelZoomTool\"},{\"id\":\"6e688e15-03f4-40f7-b2df-5038faa74f7f\",\"type\":\"BoxZoomTool\"},{\"id\":\"9372b90e-d70e-4ee3-929c-d460d0b68542\",\"type\":\"SaveTool\"},{\"id\":\"9bd983e3-ccd7-4bef-8000-996b93093be7\",\"type\":\"ResetTool\"},{\"id\":\"d14c9b15-d7aa-4621-a403-f9c7b2112fd0\",\"type\":\"HelpTool\"}]},\"id\":\"c825526b-905f-4e7e-9817-a35a97d79823\",\"type\":\"Toolbar\"},{\"attributes\":{},\"id\":\"96f878a0-3743-4389-b99a-a4d30d110a6d\",\"type\":\"PanTool\"},{\"attributes\":{\"callback\":null,\"end\":10},\"id\":\"c203991e-5388-4898-bf43-98028eff0a9d\",\"type\":\"Range1d\"},{\"attributes\":{},\"id\":\"d14c9b15-d7aa-4621-a403-f9c7b2112fd0\",\"type\":\"HelpTool\"},{\"attributes\":{},\"id\":\"97362232-265f-4fe5-b2d0-be05f6e4eeba\",\"type\":\"WheelZoomTool\"},{\"attributes\":{\"callback\":null,\"end\":10},\"id\":\"5b7563ea-358a-47d2-a7d3-a7e63d9a14d8\",\"type\":\"Range1d\"},{\"attributes\":{\"overlay\":{\"id\":\"b5d7a2b0-3b06-4d52-b27c-0d50c319a9e0\",\"type\":\"BoxAnnotation\"}},\"id\":\"6e688e15-03f4-40f7-b2df-5038faa74f7f\",\"type\":\"BoxZoomTool\"},{\"attributes\":{},\"id\":\"62bc7906-b5f6-4548-9453-4bfb1886c404\",\"type\":\"LinearScale\"},{\"attributes\":{},\"id\":\"9372b90e-d70e-4ee3-929c-d460d0b68542\",\"type\":\"SaveTool\"},{\"attributes\":{},\"id\":\"b455793d-4761-4d6b-8293-e30a0b58b165\",\"type\":\"LinearScale\"},{\"attributes\":{\"bottom_units\":\"screen\",\"fill_alpha\":{\"value\":0.5},\"fill_color\":{\"value\":\"lightgrey\"},\"left_units\":\"screen\",\"level\":\"overlay\",\"line_alpha\":{\"value\":1.0},\"line_color\":{\"value\":\"black\"},\"line_dash\":[4,4],\"line_width\":{\"value\":2},\"plot\":null,\"render_mode\":\"css\",\"right_units\":\"screen\",\"top_units\":\"screen\"},\"id\":\"b5d7a2b0-3b06-4d52-b27c-0d50c319a9e0\",\"type\":\"BoxAnnotation\"},{\"attributes\":{\"plot\":null,\"text\":\"\"},\"id\":\"a5ca08bf-6a48-4481-a78a-aaa0176e8da4\",\"type\":\"Title\"},{\"attributes\":{},\"id\":\"4cc955ab-b63c-4dbf-a1c7-edd4ac04922b\",\"type\":\"BasicTickFormatter\"},{\"attributes\":{},\"id\":\"304932c8-1e5c-4a45-8ef8-adf2841c2cee\",\"type\":\"BasicTickFormatter\"},{\"attributes\":{\"formatter\":{\"id\":\"4cc955ab-b63c-4dbf-a1c7-edd4ac04922b\",\"type\":\"BasicTickFormatter\"},\"plot\":{\"id\":\"2e090149-1fa3-4a59-acb4-191e8bc8df5b\",\"subtype\":\"Figure\",\"type\":\"Plot\"},\"ticker\":{\"id\":\"f4171f50-ec72-4b0e-923a-d834dec45ee2\",\"type\":\"BasicTicker\"}},\"id\":\"df887863-9d99-448d-8090-e977d73e9b91\",\"type\":\"LinearAxis\"},{\"attributes\":{},\"id\":\"f4171f50-ec72-4b0e-923a-d834dec45ee2\",\"type\":\"BasicTicker\"},{\"attributes\":{\"plot\":{\"id\":\"2e090149-1fa3-4a59-acb4-191e8bc8df5b\",\"subtype\":\"Figure\",\"type\":\"Plot\"},\"ticker\":{\"id\":\"f4171f50-ec72-4b0e-923a-d834dec45ee2\",\"type\":\"BasicTicker\"}},\"id\":\"9cd07ef6-7256-47a3-aacc-4f8f7d977bc1\",\"type\":\"Grid\"},{\"attributes\":{\"formatter\":{\"id\":\"304932c8-1e5c-4a45-8ef8-adf2841c2cee\",\"type\":\"BasicTickFormatter\"},\"plot\":{\"id\":\"2e090149-1fa3-4a59-acb4-191e8bc8df5b\",\"subtype\":\"Figure\",\"type\":\"Plot\"},\"ticker\":{\"id\":\"ead3e1f5-1818-4a9a-b36e-36d976e923bb\",\"type\":\"BasicTicker\"}},\"id\":\"03138ca3-36a5-4585-9d9d-1c83f032be0f\",\"type\":\"LinearAxis\"},{\"attributes\":{},\"id\":\"ead3e1f5-1818-4a9a-b36e-36d976e923bb\",\"type\":\"BasicTicker\"},{\"attributes\":{\"dimension\":1,\"plot\":{\"id\":\"2e090149-1fa3-4a59-acb4-191e8bc8df5b\",\"subtype\":\"Figure\",\"type\":\"Plot\"},\"ticker\":{\"id\":\"ead3e1f5-1818-4a9a-b36e-36d976e923bb\",\"type\":\"BasicTicker\"}},\"id\":\"604533b2-3d5e-4707-8fd0-ab80ed7efbc4\",\"type\":\"Grid\"},{\"attributes\":{},\"id\":\"9bd983e3-ccd7-4bef-8000-996b93093be7\",\"type\":\"ResetTool\"},{\"attributes\":{\"dh\":{\"field\":\"dh\",\"units\":\"data\"},\"dw\":{\"field\":\"dw\",\"units\":\"data\"},\"image\":{\"field\":\"image\"},\"x\":{\"field\":\"x\"},\"y\":{\"field\":\"y\"}},\"id\":\"d9976190-2645-44a3-85a3-75c7344dce0a\",\"type\":\"ImageRGBA\"},{\"attributes\":{\"dh\":{\"field\":\"dh\",\"units\":\"data\"},\"dw\":{\"field\":\"dw\",\"units\":\"data\"},\"image\":{\"field\":\"image\"},\"x\":{\"field\":\"x\"},\"y\":{\"field\":\"y\"}},\"id\":\"1ec5b10a-d86e-4854-af52-4e06cca81b45\",\"type\":\"ImageRGBA\"},{\"attributes\":{\"callback\":null,\"column_names\":[\"image\",\"x\",\"y\",\"dw\",\"dh\"],\"data\":{\"dh\":[10],\"dw\":[10],\"image\":[{\"__ndarray__\":\"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\",\"dtype\":\"uint32\",\"shape\":[20,20]}],\"x\":[0],\"y\":[0]}},\"id\":\"e870d33c-d950-4fea-ae5c-827c421a84fc\",\"type\":\"ColumnDataSource\"},{\"attributes\":{\"data_source\":{\"id\":\"e870d33c-d950-4fea-ae5c-827c421a84fc\",\"type\":\"ColumnDataSource\"},\"glyph\":{\"id\":\"1ec5b10a-d86e-4854-af52-4e06cca81b45\",\"type\":\"ImageRGBA\"},\"hover_glyph\":null,\"muted_glyph\":null,\"nonselection_glyph\":{\"id\":\"d9976190-2645-44a3-85a3-75c7344dce0a\",\"type\":\"ImageRGBA\"},\"selection_glyph\":null,\"view\":{\"id\":\"99fe8482-aa72-48c7-846e-6ff0e29ff6cb\",\"type\":\"CDSView\"}},\"id\":\"d6dec267-c28c-4233-aa06-440e5b818125\",\"type\":\"GlyphRenderer\"},{\"attributes\":{\"source\":{\"id\":\"e870d33c-d950-4fea-ae5c-827c421a84fc\",\"type\":\"ColumnDataSource\"}},\"id\":\"99fe8482-aa72-48c7-846e-6ff0e29ff6cb\",\"type\":\"CDSView\"},{\"attributes\":{\"below\":[{\"id\":\"df887863-9d99-448d-8090-e977d73e9b91\",\"type\":\"LinearAxis\"}],\"left\":[{\"id\":\"03138ca3-36a5-4585-9d9d-1c83f032be0f\",\"type\":\"LinearAxis\"}],\"renderers\":[{\"id\":\"df887863-9d99-448d-8090-e977d73e9b91\",\"type\":\"LinearAxis\"},{\"id\":\"9cd07ef6-7256-47a3-aacc-4f8f7d977bc1\",\"type\":\"Grid\"},{\"id\":\"03138ca3-36a5-4585-9d9d-1c83f032be0f\",\"type\":\"LinearAxis\"},{\"id\":\"604533b2-3d5e-4707-8fd0-ab80ed7efbc4\",\"type\":\"Grid\"},{\"id\":\"b5d7a2b0-3b06-4d52-b27c-0d50c319a9e0\",\"type\":\"BoxAnnotation\"},{\"id\":\"d6dec267-c28c-4233-aa06-440e5b818125\",\"type\":\"GlyphRenderer\"}],\"title\":{\"id\":\"a5ca08bf-6a48-4481-a78a-aaa0176e8da4\",\"type\":\"Title\"},\"toolbar\":{\"id\":\"c825526b-905f-4e7e-9817-a35a97d79823\",\"type\":\"Toolbar\"},\"x_range\":{\"id\":\"c203991e-5388-4898-bf43-98028eff0a9d\",\"type\":\"Range1d\"},\"x_scale\":{\"id\":\"62bc7906-b5f6-4548-9453-4bfb1886c404\",\"type\":\"LinearScale\"},\"y_range\":{\"id\":\"5b7563ea-358a-47d2-a7d3-a7e63d9a14d8\",\"type\":\"Range1d\"},\"y_scale\":{\"id\":\"b455793d-4761-4d6b-8293-e30a0b58b165\",\"type\":\"LinearScale\"}},\"id\":\"2e090149-1fa3-4a59-acb4-191e8bc8df5b\",\"subtype\":\"Figure\",\"type\":\"Plot\"}],\"root_ids\":[\"2e090149-1fa3-4a59-acb4-191e8bc8df5b\"]},\"title\":\"Bokeh Application\",\"version\":\"0.12.14\"}};\n",
       "  var render_items = [{\"docid\":\"9398f556-c6eb-417b-914e-13aabd11c205\",\"elementid\":\"cbe8281d-0320-4ef9-b739-441e0bae1415\",\"modelid\":\"2e090149-1fa3-4a59-acb4-191e8bc8df5b\"}];\n",
       "  root.Bokeh.embed.embed_items_notebook(docs_json, render_items);\n",
       "\n",
       "  }\n",
       "  if (root.Bokeh !== undefined) {\n",
       "    embed_document(root);\n",
       "  } else {\n",
       "    var attempts = 0;\n",
       "    var timer = setInterval(function(root) {\n",
       "      if (root.Bokeh !== undefined) {\n",
       "        embed_document(root);\n",
       "        clearInterval(timer);\n",
       "      }\n",
       "      attempts++;\n",
       "      if (attempts > 100) {\n",
       "        console.log(\"Bokeh: ERROR: Unable to run BokehJS code because BokehJS library is missing\")\n",
       "        clearInterval(timer);\n",
       "      }\n",
       "    }, 10, root)\n",
       "  }\n",
       "})(window);"
      ],
      "application/vnd.bokehjs_exec.v0+json": ""
     },
     "metadata": {
      "application/vnd.bokehjs_exec.v0+json": {
       "id": "2e090149-1fa3-4a59-acb4-191e8bc8df5b"
      }
     },
     "output_type": "display_data"
    }
   ],
   "source": [
    "from __future__ import division\n",
    "import numpy as np\n",
    "\n",
    "# set up some data\n",
    "N = 20\n",
    "img = np.empty((N,N), dtype=np.uint32)\n",
    "view = img.view(dtype=np.uint8).reshape((N, N, 4))\n",
    "for i in range(N):\n",
    "    for j in range(N):\n",
    "        view[i, j, 0] = int(i/N*255) # red\n",
    "        view[i, j, 1] = 158          # green\n",
    "        view[i, j, 2] = int(j/N*255) # blue\n",
    "        view[i, j, 3] = 255          # alpha\n",
    "        \n",
    "# create a new plot (with a fixed range) using figure\n",
    "p = figure(x_range=[0,10], y_range=[0,10])\n",
    "\n",
    "# add an RGBA image renderer\n",
    "p.image_rgba(image=[img], x=[0], y=[0], dw=[10], dh=[10])\n",
    "\n",
    "show(p) # show the results"
   ]
  },
  {
   "cell_type": "code",
   "execution_count": 16,
   "metadata": {},
   "outputs": [
    {
     "data": {
      "text/html": [
       "\n",
       "<div class=\"bk-root\">\n",
       "    <div class=\"bk-plotdiv\" id=\"b5f5fc61-ae94-4025-80f8-bc62572f80e7\"></div>\n",
       "</div>"
      ]
     },
     "metadata": {},
     "output_type": "display_data"
    },
    {
     "data": {
      "application/javascript": [
       "(function(root) {\n",
       "  function embed_document(root) {\n",
       "    \n",
       "  var docs_json = {\"af351ae4-30f5-492a-a4c4-c54ef9a2e587\":{\"roots\":{\"references\":[{\"attributes\":{\"fill_alpha\":{\"value\":0.1},\"fill_color\":{\"value\":\"#1f77b4\"},\"line_alpha\":{\"value\":0.1},\"line_color\":{\"value\":\"#1f77b4\"},\"x\":{\"field\":\"x\"},\"y\":{\"field\":\"y\"}},\"id\":\"c43bdbe7-2499-4d4e-91f0-dc96420565fe\",\"type\":\"Circle\"},{\"attributes\":{\"callback\":null,\"end\":1.1,\"start\":-1.1},\"id\":\"212ac26f-c9e3-4fdd-83c7-ed43050b720b\",\"type\":\"Range1d\"},{\"attributes\":{\"bottom_units\":\"screen\",\"fill_alpha\":{\"value\":0.5},\"fill_color\":{\"value\":\"lightgrey\"},\"left_units\":\"screen\",\"level\":\"overlay\",\"line_alpha\":{\"value\":1.0},\"line_color\":{\"value\":\"black\"},\"line_dash\":[4,4],\"line_width\":{\"value\":2},\"plot\":null,\"render_mode\":\"css\",\"right_units\":\"screen\",\"top_units\":\"screen\"},\"id\":\"cea29612-deef-4d70-bcb5-65ccea6ead63\",\"type\":\"BoxAnnotation\"},{\"attributes\":{\"callback\":null,\"end\":100},\"id\":\"08c637e3-16a1-4836-8278-ff5b827498d2\",\"type\":\"Range1d\"},{\"attributes\":{},\"id\":\"82510ef8-9af3-4887-9c34-6ec53896c1bb\",\"type\":\"WheelZoomTool\"},{\"attributes\":{},\"id\":\"7dbda2f6-5aa4-4cb3-a76a-c0d7fd80a908\",\"type\":\"PanTool\"},{\"attributes\":{},\"id\":\"ffa1511e-80ac-43d4-a45e-0bfb869907ad\",\"type\":\"HelpTool\"},{\"attributes\":{\"fill_color\":{\"value\":\"red\"},\"line_color\":{\"value\":\"red\"},\"x\":{\"field\":\"x\"},\"y\":{\"field\":\"y\"}},\"id\":\"556383b9-b81d-4a61-b11e-8c21de46fd67\",\"type\":\"Circle\"},{\"attributes\":{\"callback\":null,\"column_names\":[\"x\",\"y\"],\"data\":{\"x\":{\"__ndarray__\":\"GC1EVPshGcCyxt3tlLsYwExgd4cuVRjA5vkQIcjuF8CAk6q6YYgXwBotRFT7IRfAtMbd7ZS7FsBOYHeHLlUWwOj5ECHI7hXAgpOqumGIFcAcLURU+yEVwLbG3e2UuxTAUGB3hy5VFMDq+RAhyO4TwISTqrphiBPAHi1EVPshE8C4xt3tlLsSwFJgd4cuVRLA7PkQIcjuEcCGk6q6YYgRwCAtRFT7IRHAusbd7ZS7EMBUYHeHLlUQwNzzIUKQ3Q/AECdVdcMQD8BEWoio9kMOwHiNu9spdw3ArMDuDl2qDMDg8yFCkN0LwBQnVXXDEAvASFqIqPZDCsB8jbvbKXcJwLDA7g5dqgjA5PMhQpDdB8AYJ1V1wxAHwExaiKj2QwbAgI272yl3BcC0wO4OXaoEwOjzIUKQ3QPAHCdVdcMQA8BQWoio9kMCwISNu9spdwHAuMDuDl2qAMDY50OEILv/v0BOquqGIf6/qLQQUe2H/L8QG3e3U+76v3iB3R26VPm/4OdDhCC7979ITqrqhiH2v7C0EFHth/S/GBt3t1Pu8r+Agd0dulTxv9DPhwhBdu+/oJxU1Q1D7L9waSGi2g/pv0A27m6n3OW/EAO7O3Sp4r/Anw8Rguzev2A5qaobhti/ANNCRLUf0r9A2bi7nXLHvwAZ2N2hS7W/AAIG7943kT8AGltVkee9P8BZeneVwMs/QJMjIrFG1D+g+YmIF63aPwAwePe+ieA/MGOrKvK84z9glt5dJfDmP5DJEZFYI+o/wPxExItW7T/4F7x730TwP5CxVRV53vE/KEvvrhJ48z/A5IhIrBH1P1h+IuJFq/Y/8Be8e99E+D+IsVUVed75PyBL764SePs/uOSISKwR/T9QfiLiRav+P/QL3r1vIgBAwNiqijzvAECMpXdXCbwBQFhyRCTWiAJAJD8R8aJVA0DwC969byIEQLzYqoo87wRAiKV3Vwm8BUBUckQk1ogGQCA/EfGiVQdA7AvevW8iCEC42KqKPO8IQISld1cJvAlAUHJEJNaICkAcPxHxolULQOgL3r1vIgxAtNiqijzvDECApXdXCbwNQExyRCTWiA5AGD8R8aJVD0DyBe/eNxEQQFhsVUWedxBAvtK7qwTeEEAkOSISa0QRQIqfiHjRqhFA8AXv3jcREkBWbFVFnncSQLzSu6sE3hJAIjkiEmtEE0CIn4h40aoTQO4F7943ERRAVGxVRZ53FEC60rurBN4UQCA5IhJrRBVAhp+IeNGqFUDsBe/eNxEWQFJsVUWedxZAuNK7qwTeFkAeOSISa0QXQISfiHjRqhdA6gXv3jcRGEBQbFVFnncYQLbSu6sE3hhA\",\"dtype\":\"float64\",\"shape\":[126]},\"y\":{\"__ndarray__\":\"AAAAAAAAAACamZmZmZnpP5qZmZmZmfk/NDMzMzMzA0CamZmZmZkJQAAAAAAAABBANDMzMzMzE0BnZmZmZmYWQJqZmZmZmRlAzczMzMzMHEAAAAAAAAAgQJqZmZmZmSFANDMzMzMzI0DNzMzMzMwkQGdmZmZmZiZAAAAAAAAAKECamZmZmZkpQDQzMzMzMytAzczMzMzMLEBnZmZmZmYuQAAAAAAAADBAzczMzMzMMECamZmZmZkxQGdmZmZmZjJANDMzMzMzM0AAAAAAAAA0QM3MzMzMzDRAmpmZmZmZNUBnZmZmZmY2QDQzMzMzMzdAAAAAAAAAOEDNzMzMzMw4QJqZmZmZmTlAZ2ZmZmZmOkA0MzMzMzM7QAAAAAAAADxAzczMzMzMPECamZmZmZk9QGdmZmZmZj5ANDMzMzMzP0AAAAAAAABAQGdmZmZmZkBAzczMzMzMQEAzMzMzMzNBQJqZmZmZmUFAAAAAAAAAQkBnZmZmZmZCQM3MzMzMzEJANDMzMzMzQ0CamZmZmZlDQAAAAAAAAERAZ2ZmZmZmREDNzMzMzMxEQDQzMzMzM0VAmpmZmZmZRUAAAAAAAABGQGdmZmZmZkZAzczMzMzMRkA0MzMzMzNHQJqZmZmZmUdAAAAAAAAASEBnZmZmZmZIQM3MzMzMzEhANDMzMzMzSUCamZmZmZlJQAAAAAAAAEpAZ2ZmZmZmSkDNzMzMzMxKQDQzMzMzM0tAmpmZmZmZS0AAAAAAAABMQGdmZmZmZkxAzczMzMzMTEA0MzMzMzNNQJqZmZmZmU1AAAAAAAAATkBnZmZmZmZOQM3MzMzMzE5ANDMzMzMzT0CamZmZmZlPQAAAAAAAAFBAMzMzMzMzUEBnZmZmZmZQQJqZmZmZmVBAzczMzMzMUEAAAAAAAABRQDMzMzMzM1FAZ2ZmZmZmUUCamZmZmZlRQM3MzMzMzFFAAAAAAAAAUkAzMzMzMzNSQGdmZmZmZlJAmpmZmZmZUkDNzMzMzMxSQAAAAAAAAFNANDMzMzMzU0BnZmZmZmZTQJqZmZmZmVNAzczMzMzMU0AAAAAAAABUQDQzMzMzM1RAZ2ZmZmZmVECamZmZmZlUQM3MzMzMzFRAAAAAAAAAVUA0MzMzMzNVQGdmZmZmZlVAmpmZmZmZVUDNzMzMzMxVQAAAAAAAAFZANDMzMzMzVkBnZmZmZmZWQJqZmZmZmVZAzczMzMzMVkAAAAAAAABXQDQzMzMzM1dAZ2ZmZmZmV0CamZmZmZlXQM3MzMzMzFdAAAAAAAAAWEA0MzMzMzNYQGdmZmZmZlhAmpmZmZmZWEDNzMzMzMxYQAAAAAAAAFlA\",\"dtype\":\"float64\",\"shape\":[126]}}},\"id\":\"c6d2623d-b6e6-4527-af1e-d022704a0521\",\"type\":\"ColumnDataSource\"},{\"attributes\":{\"formatter\":{\"id\":\"4370cee5-6ae5-4c20-a806-5e3cbf0c203a\",\"type\":\"BasicTickFormatter\"},\"plot\":{\"id\":\"b706eb63-59e3-4311-a09a-bf0f77a18b1c\",\"subtype\":\"Figure\",\"type\":\"Plot\"},\"ticker\":{\"id\":\"3acca30e-27e0-4280-8b64-b082ec97ae86\",\"type\":\"BasicTicker\"},\"y_range_name\":\"foo\"},\"id\":\"58b96aa4-1fa3-4e44-9087-1ebe8ad1283d\",\"type\":\"LinearAxis\"},{\"attributes\":{\"plot\":null,\"text\":\"\"},\"id\":\"8a82989a-63cd-49ce-afae-287c2199612f\",\"type\":\"Title\"},{\"attributes\":{},\"id\":\"75acf3d9-8e67-4be0-9aac-74e3e80e1a79\",\"type\":\"BasicTickFormatter\"},{\"attributes\":{\"callback\":null,\"column_names\":[\"x\",\"y\"],\"data\":{\"x\":{\"__ndarray__\":\"GC1EVPshGcCyxt3tlLsYwExgd4cuVRjA5vkQIcjuF8CAk6q6YYgXwBotRFT7IRfAtMbd7ZS7FsBOYHeHLlUWwOj5ECHI7hXAgpOqumGIFcAcLURU+yEVwLbG3e2UuxTAUGB3hy5VFMDq+RAhyO4TwISTqrphiBPAHi1EVPshE8C4xt3tlLsSwFJgd4cuVRLA7PkQIcjuEcCGk6q6YYgRwCAtRFT7IRHAusbd7ZS7EMBUYHeHLlUQwNzzIUKQ3Q/AECdVdcMQD8BEWoio9kMOwHiNu9spdw3ArMDuDl2qDMDg8yFCkN0LwBQnVXXDEAvASFqIqPZDCsB8jbvbKXcJwLDA7g5dqgjA5PMhQpDdB8AYJ1V1wxAHwExaiKj2QwbAgI272yl3BcC0wO4OXaoEwOjzIUKQ3QPAHCdVdcMQA8BQWoio9kMCwISNu9spdwHAuMDuDl2qAMDY50OEILv/v0BOquqGIf6/qLQQUe2H/L8QG3e3U+76v3iB3R26VPm/4OdDhCC7979ITqrqhiH2v7C0EFHth/S/GBt3t1Pu8r+Agd0dulTxv9DPhwhBdu+/oJxU1Q1D7L9waSGi2g/pv0A27m6n3OW/EAO7O3Sp4r/Anw8Rguzev2A5qaobhti/ANNCRLUf0r9A2bi7nXLHvwAZ2N2hS7W/AAIG7943kT8AGltVkee9P8BZeneVwMs/QJMjIrFG1D+g+YmIF63aPwAwePe+ieA/MGOrKvK84z9glt5dJfDmP5DJEZFYI+o/wPxExItW7T/4F7x730TwP5CxVRV53vE/KEvvrhJ48z/A5IhIrBH1P1h+IuJFq/Y/8Be8e99E+D+IsVUVed75PyBL764SePs/uOSISKwR/T9QfiLiRav+P/QL3r1vIgBAwNiqijzvAECMpXdXCbwBQFhyRCTWiAJAJD8R8aJVA0DwC969byIEQLzYqoo87wRAiKV3Vwm8BUBUckQk1ogGQCA/EfGiVQdA7AvevW8iCEC42KqKPO8IQISld1cJvAlAUHJEJNaICkAcPxHxolULQOgL3r1vIgxAtNiqijzvDECApXdXCbwNQExyRCTWiA5AGD8R8aJVD0DyBe/eNxEQQFhsVUWedxBAvtK7qwTeEEAkOSISa0QRQIqfiHjRqhFA8AXv3jcREkBWbFVFnncSQLzSu6sE3hJAIjkiEmtEE0CIn4h40aoTQO4F7943ERRAVGxVRZ53FEC60rurBN4UQCA5IhJrRBVAhp+IeNGqFUDsBe/eNxEWQFJsVUWedxZAuNK7qwTeFkAeOSISa0QXQISfiHjRqhdA6gXv3jcRGEBQbFVFnncYQLbSu6sE3hhA\",\"dtype\":\"float64\",\"shape\":[126]},\"y\":{\"__ndarray__\":\"B1wUMyamsTwky4vLro65P6zSPSP/bck/Jbq6lc3p0j9XZyvpOuzYP9gFS3Tort4/S0GlF40R4j+pGUZpbp3kP7z+v8KU9OY/MKhdmAMR6T/eDAmPVO3qPyhjLUzFhOw/t1UaokPT7T9BHsX5d9XuP/vgRN/NiO8/iG0sm3rr7z/HQuDHgfzvP72YL9e3u+8//RW9gcIp7z9qOBofF0juP2C00er2GO0/HHPrP2mf6z8x16rZM9/pP1MvWC3R3Oc/0tHD9WSd5T/vys8NrybjPwGGoLv8fuA/p6ckJDFa2z9p5l0jcnDVPz8ySNa4n84/z9a2bTgQwj9JFpiCD0qlP9gm6Dk3462/9Qq3ygIxxL+gS/8QyVrQv1Jhun47c9a/JdHwQ0FS3L/dGi7savTgv0DA7P9WlOO/crMfLS4C5r9cHtzduTfov3DI4npTL+q/lhLQ3/Lj67/viQE6O1Htv8QoRTGGc+6/Y0DHPe1H77+p7F0TUczvv1HsNw9f/++/DT4MmpTg77/B6yJ2QHDvv2CZ4PWBr+6/9yLYHEag7b8lJbqyQkXsv5cSvFTvoeq/3gUyl3y66L/SsApOyZPmv0H2lhdWM+S/OMh6STef4b8a4Y7HCrzdv3u+C2SY7de/LaSwivHh0b9m/jPXGVHHv0bTvttYRbW/xSXLwqk3kT/JIzUvK9a9PxjIxkANics//AfpL0vw0z91hzWkD+nZP4cP6pqNn98/ChrYG5SC4j9hCW3CCAblP+5iZOG2U+c/hMjjJbpl6T/Mcx3cxjbrP44pBXs3wuw/3a38hhgE7j/R9xCtMvnuPzNU7vwSn+8/IbeALBH07z+1XzrVU/fvP6DPKKDSqO8/pbRJW1YJ7z+JM+n3dhruP8RhK3eX3uw/Jfgtz99Y6z+f2l/YNI3pP+WxtFcugOc/zaIuPws35T/F08pCpLfiP3g4I+RcCOA/mTEMNiZg2j8025+JG2zUPwSg1R2oh8w/qzXOvj7cvz+ZZ0Soul6ZPxMepJQaPbO/RLIVCFdQxr8Pn7GuhmTRv7Nrs+BkdNe/O7QgoURI3b9ITvP1nmjhv9zlVSmUAOS/XGXQmV9l5r9ZNdHU4ZDov+SMb++Nfeq/d0LwuHcm7L9QJSxSYIftv8TXognBnO6/SRtzYNRj779HhCYhndrvv+yTLnbr/++/NaAP81/T77/KpXWIbFXvv+6vwmBTh+6/2k8AqCNr7b+D929HtAPsv7RWM6KcVOq/762gZSti6L8bWsKEWzHmvw8RMHvHx+O/52bX95or4b9I9bkoBsfcv2FS64I67da/RcPLJ8rY0L9F3NCChDLFvyPcIcx4+rC/\",\"dtype\":\"float64\",\"shape\":[126]}}},\"id\":\"4c26cbb7-6c0d-49fb-a243-7ed524bf36c5\",\"type\":\"ColumnDataSource\"},{\"attributes\":{\"fill_color\":{\"value\":\"blue\"},\"line_color\":{\"value\":\"blue\"},\"x\":{\"field\":\"x\"},\"y\":{\"field\":\"y\"}},\"id\":\"d08dc7b7-2c25-40db-9fca-acbc2cd4dc01\",\"type\":\"Circle\"},{\"attributes\":{\"source\":{\"id\":\"c6d2623d-b6e6-4527-af1e-d022704a0521\",\"type\":\"ColumnDataSource\"}},\"id\":\"435eb593-2f42-4ebc-9865-7b34675fac8a\",\"type\":\"CDSView\"},{\"attributes\":{\"fill_alpha\":{\"value\":0.1},\"fill_color\":{\"value\":\"#1f77b4\"},\"line_alpha\":{\"value\":0.1},\"line_color\":{\"value\":\"#1f77b4\"},\"x\":{\"field\":\"x\"},\"y\":{\"field\":\"y\"}},\"id\":\"6a3d57d0-2199-4745-8fd8-e7bbb1fc8dde\",\"type\":\"Circle\"},{\"attributes\":{\"callback\":null,\"end\":6.5,\"start\":-6.5},\"id\":\"6f382c0e-7bf9-4f4a-8fed-beaec630bd48\",\"type\":\"Range1d\"},{\"attributes\":{},\"id\":\"e2d58e2d-3988-45e6-bb27-2bd575f5fe54\",\"type\":\"LinearScale\"},{\"attributes\":{\"active_drag\":\"auto\",\"active_inspect\":\"auto\",\"active_scroll\":\"auto\",\"active_tap\":\"auto\",\"tools\":[{\"id\":\"7dbda2f6-5aa4-4cb3-a76a-c0d7fd80a908\",\"type\":\"PanTool\"},{\"id\":\"82510ef8-9af3-4887-9c34-6ec53896c1bb\",\"type\":\"WheelZoomTool\"},{\"id\":\"d144d808-1d63-4d47-b664-4dfb3d60f2b6\",\"type\":\"BoxZoomTool\"},{\"id\":\"c5ed44f1-cd6e-4e84-9278-aa3d92efd128\",\"type\":\"SaveTool\"},{\"id\":\"9b2507a9-e61e-4c1f-b251-f84e1190c61b\",\"type\":\"ResetTool\"},{\"id\":\"ffa1511e-80ac-43d4-a45e-0bfb869907ad\",\"type\":\"HelpTool\"}]},\"id\":\"ce1ffc0b-366f-4fd0-bf14-778b19319d53\",\"type\":\"Toolbar\"},{\"attributes\":{\"below\":[{\"id\":\"2197a2e6-097e-424b-b0d4-b86edaa3b900\",\"type\":\"LinearAxis\"}],\"extra_y_ranges\":{\"foo\":{\"id\":\"08c637e3-16a1-4836-8278-ff5b827498d2\",\"type\":\"Range1d\"}},\"left\":[{\"id\":\"6315e581-6453-455c-aa69-df96d7924283\",\"type\":\"LinearAxis\"},{\"id\":\"58b96aa4-1fa3-4e44-9087-1ebe8ad1283d\",\"type\":\"LinearAxis\"}],\"renderers\":[{\"id\":\"2197a2e6-097e-424b-b0d4-b86edaa3b900\",\"type\":\"LinearAxis\"},{\"id\":\"8456a168-aa7c-490a-ba8c-9cfb48388ae6\",\"type\":\"Grid\"},{\"id\":\"6315e581-6453-455c-aa69-df96d7924283\",\"type\":\"LinearAxis\"},{\"id\":\"83f7f8de-5bd9-41b6-b952-bc33ce3bbdf9\",\"type\":\"Grid\"},{\"id\":\"cea29612-deef-4d70-bcb5-65ccea6ead63\",\"type\":\"BoxAnnotation\"},{\"id\":\"be35a45d-bb4d-4a98-a437-5997a31108a3\",\"type\":\"GlyphRenderer\"},{\"id\":\"99cffb36-9886-45fd-86a2-248afe0f2418\",\"type\":\"GlyphRenderer\"},{\"id\":\"58b96aa4-1fa3-4e44-9087-1ebe8ad1283d\",\"type\":\"LinearAxis\"}],\"title\":{\"id\":\"8a82989a-63cd-49ce-afae-287c2199612f\",\"type\":\"Title\"},\"toolbar\":{\"id\":\"ce1ffc0b-366f-4fd0-bf14-778b19319d53\",\"type\":\"Toolbar\"},\"x_range\":{\"id\":\"6f382c0e-7bf9-4f4a-8fed-beaec630bd48\",\"type\":\"Range1d\"},\"x_scale\":{\"id\":\"e2d58e2d-3988-45e6-bb27-2bd575f5fe54\",\"type\":\"LinearScale\"},\"y_range\":{\"id\":\"212ac26f-c9e3-4fdd-83c7-ed43050b720b\",\"type\":\"Range1d\"},\"y_scale\":{\"id\":\"8801f900-bfc5-48b6-a753-daed5296f3b1\",\"type\":\"LinearScale\"}},\"id\":\"b706eb63-59e3-4311-a09a-bf0f77a18b1c\",\"subtype\":\"Figure\",\"type\":\"Plot\"},{\"attributes\":{\"dimension\":1,\"plot\":{\"id\":\"b706eb63-59e3-4311-a09a-bf0f77a18b1c\",\"subtype\":\"Figure\",\"type\":\"Plot\"},\"ticker\":{\"id\":\"7804936f-ebdd-4c7e-af76-13a4061b9443\",\"type\":\"BasicTicker\"}},\"id\":\"83f7f8de-5bd9-41b6-b952-bc33ce3bbdf9\",\"type\":\"Grid\"},{\"attributes\":{},\"id\":\"4370cee5-6ae5-4c20-a806-5e3cbf0c203a\",\"type\":\"BasicTickFormatter\"},{\"attributes\":{},\"id\":\"8801f900-bfc5-48b6-a753-daed5296f3b1\",\"type\":\"LinearScale\"},{\"attributes\":{\"source\":{\"id\":\"4c26cbb7-6c0d-49fb-a243-7ed524bf36c5\",\"type\":\"ColumnDataSource\"}},\"id\":\"ca2c3e8f-9057-4d8c-bb69-fb2895a439c7\",\"type\":\"CDSView\"},{\"attributes\":{},\"id\":\"3acca30e-27e0-4280-8b64-b082ec97ae86\",\"type\":\"BasicTicker\"},{\"attributes\":{\"data_source\":{\"id\":\"4c26cbb7-6c0d-49fb-a243-7ed524bf36c5\",\"type\":\"ColumnDataSource\"},\"glyph\":{\"id\":\"556383b9-b81d-4a61-b11e-8c21de46fd67\",\"type\":\"Circle\"},\"hover_glyph\":null,\"muted_glyph\":null,\"nonselection_glyph\":{\"id\":\"c43bdbe7-2499-4d4e-91f0-dc96420565fe\",\"type\":\"Circle\"},\"selection_glyph\":null,\"view\":{\"id\":\"ca2c3e8f-9057-4d8c-bb69-fb2895a439c7\",\"type\":\"CDSView\"}},\"id\":\"be35a45d-bb4d-4a98-a437-5997a31108a3\",\"type\":\"GlyphRenderer\"},{\"attributes\":{},\"id\":\"9b2507a9-e61e-4c1f-b251-f84e1190c61b\",\"type\":\"ResetTool\"},{\"attributes\":{\"overlay\":{\"id\":\"cea29612-deef-4d70-bcb5-65ccea6ead63\",\"type\":\"BoxAnnotation\"}},\"id\":\"d144d808-1d63-4d47-b664-4dfb3d60f2b6\",\"type\":\"BoxZoomTool\"},{\"attributes\":{},\"id\":\"0bd3a44c-0bb8-423f-8485-f2cde623da34\",\"type\":\"BasicTicker\"},{\"attributes\":{\"plot\":{\"id\":\"b706eb63-59e3-4311-a09a-bf0f77a18b1c\",\"subtype\":\"Figure\",\"type\":\"Plot\"},\"ticker\":{\"id\":\"0bd3a44c-0bb8-423f-8485-f2cde623da34\",\"type\":\"BasicTicker\"}},\"id\":\"8456a168-aa7c-490a-ba8c-9cfb48388ae6\",\"type\":\"Grid\"},{\"attributes\":{\"formatter\":{\"id\":\"0303f7ff-eff6-42c2-9aa2-6ce819238661\",\"type\":\"BasicTickFormatter\"},\"plot\":{\"id\":\"b706eb63-59e3-4311-a09a-bf0f77a18b1c\",\"subtype\":\"Figure\",\"type\":\"Plot\"},\"ticker\":{\"id\":\"0bd3a44c-0bb8-423f-8485-f2cde623da34\",\"type\":\"BasicTicker\"}},\"id\":\"2197a2e6-097e-424b-b0d4-b86edaa3b900\",\"type\":\"LinearAxis\"},{\"attributes\":{},\"id\":\"c5ed44f1-cd6e-4e84-9278-aa3d92efd128\",\"type\":\"SaveTool\"},{\"attributes\":{\"data_source\":{\"id\":\"c6d2623d-b6e6-4527-af1e-d022704a0521\",\"type\":\"ColumnDataSource\"},\"glyph\":{\"id\":\"d08dc7b7-2c25-40db-9fca-acbc2cd4dc01\",\"type\":\"Circle\"},\"hover_glyph\":null,\"muted_glyph\":null,\"nonselection_glyph\":{\"id\":\"6a3d57d0-2199-4745-8fd8-e7bbb1fc8dde\",\"type\":\"Circle\"},\"selection_glyph\":null,\"view\":{\"id\":\"435eb593-2f42-4ebc-9865-7b34675fac8a\",\"type\":\"CDSView\"},\"y_range_name\":\"foo\"},\"id\":\"99cffb36-9886-45fd-86a2-248afe0f2418\",\"type\":\"GlyphRenderer\"},{\"attributes\":{},\"id\":\"0303f7ff-eff6-42c2-9aa2-6ce819238661\",\"type\":\"BasicTickFormatter\"},{\"attributes\":{\"formatter\":{\"id\":\"75acf3d9-8e67-4be0-9aac-74e3e80e1a79\",\"type\":\"BasicTickFormatter\"},\"plot\":{\"id\":\"b706eb63-59e3-4311-a09a-bf0f77a18b1c\",\"subtype\":\"Figure\",\"type\":\"Plot\"},\"ticker\":{\"id\":\"7804936f-ebdd-4c7e-af76-13a4061b9443\",\"type\":\"BasicTicker\"}},\"id\":\"6315e581-6453-455c-aa69-df96d7924283\",\"type\":\"LinearAxis\"},{\"attributes\":{},\"id\":\"7804936f-ebdd-4c7e-af76-13a4061b9443\",\"type\":\"BasicTicker\"}],\"root_ids\":[\"b706eb63-59e3-4311-a09a-bf0f77a18b1c\"]},\"title\":\"Bokeh Application\",\"version\":\"0.12.14\"}};\n",
       "  var render_items = [{\"docid\":\"af351ae4-30f5-492a-a4c4-c54ef9a2e587\",\"elementid\":\"b5f5fc61-ae94-4025-80f8-bc62572f80e7\",\"modelid\":\"b706eb63-59e3-4311-a09a-bf0f77a18b1c\"}];\n",
       "  root.Bokeh.embed.embed_items_notebook(docs_json, render_items);\n",
       "\n",
       "  }\n",
       "  if (root.Bokeh !== undefined) {\n",
       "    embed_document(root);\n",
       "  } else {\n",
       "    var attempts = 0;\n",
       "    var timer = setInterval(function(root) {\n",
       "      if (root.Bokeh !== undefined) {\n",
       "        embed_document(root);\n",
       "        clearInterval(timer);\n",
       "      }\n",
       "      attempts++;\n",
       "      if (attempts > 100) {\n",
       "        console.log(\"Bokeh: ERROR: Unable to run BokehJS code because BokehJS library is missing\")\n",
       "        clearInterval(timer);\n",
       "      }\n",
       "    }, 10, root)\n",
       "  }\n",
       "})(window);"
      ],
      "application/vnd.bokehjs_exec.v0+json": ""
     },
     "metadata": {
      "application/vnd.bokehjs_exec.v0+json": {
       "id": "b706eb63-59e3-4311-a09a-bf0f77a18b1c"
      }
     },
     "output_type": "display_data"
    }
   ],
   "source": [
    "from numpy import pi, arange, sin, linspace\n",
    "\n",
    "from bokeh.plotting import output_file, figure, show\n",
    "from bokeh.models import LinearAxis, Range1d\n",
    "\n",
    "x = arange(-2*pi, 2*pi, 0.1)\n",
    "y = sin(x)\n",
    "y2 = linspace(0, 100, len(y))\n",
    "\n",
    "output_file(\"twin_axis.html\")\n",
    "\n",
    "p = figure(x_range=(-6.5, 6.5), y_range=(-1.1, 1.1))\n",
    "\n",
    "p.circle(x, y, color=\"red\")\n",
    "\n",
    "p.extra_y_ranges = {\"foo\": Range1d(start=0, end=100)}\n",
    "p.circle(x, y2, color=\"blue\", y_range_name=\"foo\")\n",
    "p.add_layout(LinearAxis(y_range_name=\"foo\"), 'left')\n",
    "\n",
    "show(p)"
   ]
  },
  {
   "cell_type": "code",
   "execution_count": 17,
   "metadata": {},
   "outputs": [
    {
     "data": {
      "text/html": [
       "\n",
       "<div class=\"bk-root\">\n",
       "    <div class=\"bk-plotdiv\" id=\"1f3c927d-b521-4fe9-8bf3-48930373a8bd\"></div>\n",
       "</div>"
      ]
     },
     "metadata": {},
     "output_type": "display_data"
    },
    {
     "data": {
      "application/javascript": [
       "(function(root) {\n",
       "  function embed_document(root) {\n",
       "    \n",
       "  var docs_json = {\"af40c377-ad87-460c-aa8f-a987f8830cdc\":{\"roots\":{\"references\":[{\"attributes\":{\"callback\":null,\"column_names\":[\"x\",\"y\"],\"data\":{\"x\":[1,2,3,4,5],\"y\":[6,7,8,7,3]}},\"id\":\"a455916a-655c-40c2-a596-d1e5a80986e9\",\"type\":\"ColumnDataSource\"},{\"attributes\":{},\"id\":\"51adfdec-0088-4c83-8392-d30778281637\",\"type\":\"BasicTickFormatter\"},{\"attributes\":{\"plot\":null,\"text\":\"\"},\"id\":\"8d5e6830-b520-46af-a690-d7abe0200d26\",\"type\":\"Title\"},{\"attributes\":{},\"id\":\"fac1c0db-2b83-406e-8bc5-25095df02408\",\"type\":\"SaveTool\"},{\"attributes\":{},\"id\":\"01fa5654-1491-4b6c-9cc2-246379013b6d\",\"type\":\"ResetTool\"},{\"attributes\":{\"active_drag\":\"auto\",\"active_inspect\":\"auto\",\"active_scroll\":\"auto\",\"active_tap\":\"auto\",\"tools\":[{\"id\":\"6e9c171b-4e1c-4053-b34d-9863b28fa4c8\",\"type\":\"PanTool\"},{\"id\":\"6f32ea7a-c2e2-46e6-97a5-f3ffc6671711\",\"type\":\"WheelZoomTool\"},{\"id\":\"6d2373e9-1a9b-4e8b-a42e-187cad722f3a\",\"type\":\"BoxZoomTool\"},{\"id\":\"fac1c0db-2b83-406e-8bc5-25095df02408\",\"type\":\"SaveTool\"},{\"id\":\"01fa5654-1491-4b6c-9cc2-246379013b6d\",\"type\":\"ResetTool\"},{\"id\":\"9f5f6116-5bea-4790-b8eb-94507f603242\",\"type\":\"HelpTool\"}]},\"id\":\"1a1a8cd9-54e6-436a-8cd5-eccdf29e7eee\",\"type\":\"Toolbar\"},{\"attributes\":{\"overlay\":{\"id\":\"2c188eb5-b77b-4b62-934f-560c54044621\",\"type\":\"BoxAnnotation\"}},\"id\":\"6d2373e9-1a9b-4e8b-a42e-187cad722f3a\",\"type\":\"BoxZoomTool\"},{\"attributes\":{},\"id\":\"00670bda-d5a6-45d9-a06d-06f51da31201\",\"type\":\"BasicTickFormatter\"},{\"attributes\":{\"line_alpha\":0.1,\"line_color\":\"#1f77b4\",\"line_width\":2,\"x\":{\"field\":\"x\"},\"y\":{\"field\":\"y\"}},\"id\":\"aeb0857a-1c76-4d1e-aca8-618f3335bf35\",\"type\":\"Line\"},{\"attributes\":{},\"id\":\"9f5f6116-5bea-4790-b8eb-94507f603242\",\"type\":\"HelpTool\"},{\"attributes\":{\"source\":{\"id\":\"185aa7d1-7b80-47a4-9db3-002571ec0f81\",\"type\":\"ColumnDataSource\"}},\"id\":\"29ff2527-bcae-4f2d-976d-2a1f5eb412ef\",\"type\":\"CDSView\"},{\"attributes\":{\"data_source\":{\"id\":\"a455916a-655c-40c2-a596-d1e5a80986e9\",\"type\":\"ColumnDataSource\"},\"glyph\":{\"id\":\"41257a46-e32c-4483-8028-97f86ce76031\",\"type\":\"Circle\"},\"hover_glyph\":null,\"muted_glyph\":null,\"nonselection_glyph\":{\"id\":\"45b819cd-2747-4149-9d04-e12a0e8791c4\",\"type\":\"Circle\"},\"selection_glyph\":null,\"view\":{\"id\":\"d0272c74-965f-4093-811c-1452754596ef\",\"type\":\"CDSView\"}},\"id\":\"121c8f87-8c94-4e1f-95b5-9b50ef18e5c5\",\"type\":\"GlyphRenderer\"},{\"attributes\":{\"source\":{\"id\":\"a455916a-655c-40c2-a596-d1e5a80986e9\",\"type\":\"ColumnDataSource\"}},\"id\":\"d0272c74-965f-4093-811c-1452754596ef\",\"type\":\"CDSView\"},{\"attributes\":{\"fill_color\":{\"value\":\"white\"},\"line_color\":{\"value\":\"#1f77b4\"},\"size\":{\"units\":\"screen\",\"value\":8},\"x\":{\"field\":\"x\"},\"y\":{\"field\":\"y\"}},\"id\":\"41257a46-e32c-4483-8028-97f86ce76031\",\"type\":\"Circle\"},{\"attributes\":{\"below\":[{\"id\":\"fd92b9b2-55c0-4452-86ec-bf5578ea5267\",\"type\":\"LinearAxis\"}],\"left\":[{\"id\":\"488e62e2-03e7-4e9f-a5eb-3cffe0669b2a\",\"type\":\"LinearAxis\"}],\"plot_height\":400,\"plot_width\":400,\"renderers\":[{\"id\":\"fd92b9b2-55c0-4452-86ec-bf5578ea5267\",\"type\":\"LinearAxis\"},{\"id\":\"332371ed-7a8d-49d7-9e56-bac29085e236\",\"type\":\"Grid\"},{\"id\":\"488e62e2-03e7-4e9f-a5eb-3cffe0669b2a\",\"type\":\"LinearAxis\"},{\"id\":\"61405a83-01a9-4c5d-8859-b97edbbbbf1e\",\"type\":\"Grid\"},{\"id\":\"2c188eb5-b77b-4b62-934f-560c54044621\",\"type\":\"BoxAnnotation\"},{\"id\":\"3ab82905-2396-460b-93ee-fb190a773f29\",\"type\":\"GlyphRenderer\"},{\"id\":\"121c8f87-8c94-4e1f-95b5-9b50ef18e5c5\",\"type\":\"GlyphRenderer\"}],\"title\":{\"id\":\"8d5e6830-b520-46af-a690-d7abe0200d26\",\"type\":\"Title\"},\"toolbar\":{\"id\":\"1a1a8cd9-54e6-436a-8cd5-eccdf29e7eee\",\"type\":\"Toolbar\"},\"x_range\":{\"id\":\"e254f819-acb9-48c2-80e9-1fea267b087d\",\"type\":\"DataRange1d\"},\"x_scale\":{\"id\":\"4986163a-bebe-4f81-beb3-5817d51abea7\",\"type\":\"LinearScale\"},\"y_range\":{\"id\":\"31296d8b-fb55-40a0-9fd5-65ebd9c159f1\",\"type\":\"DataRange1d\"},\"y_scale\":{\"id\":\"e6fdaa68-fca0-4936-a2cf-5ccd54364607\",\"type\":\"LinearScale\"}},\"id\":\"66d55bc0-5be0-4f37-83af-07fec05c5568\",\"subtype\":\"Figure\",\"type\":\"Plot\"},{\"attributes\":{},\"id\":\"01a1d5a7-f8d1-44f8-90e8-6d6352a5aabd\",\"type\":\"BasicTicker\"},{\"attributes\":{\"fill_alpha\":{\"value\":0.1},\"fill_color\":{\"value\":\"#1f77b4\"},\"line_alpha\":{\"value\":0.1},\"line_color\":{\"value\":\"#1f77b4\"},\"size\":{\"units\":\"screen\",\"value\":8},\"x\":{\"field\":\"x\"},\"y\":{\"field\":\"y\"}},\"id\":\"45b819cd-2747-4149-9d04-e12a0e8791c4\",\"type\":\"Circle\"},{\"attributes\":{\"bottom_units\":\"screen\",\"fill_alpha\":{\"value\":0.5},\"fill_color\":{\"value\":\"lightgrey\"},\"left_units\":\"screen\",\"level\":\"overlay\",\"line_alpha\":{\"value\":1.0},\"line_color\":{\"value\":\"black\"},\"line_dash\":[4,4],\"line_width\":{\"value\":2},\"plot\":null,\"render_mode\":\"css\",\"right_units\":\"screen\",\"top_units\":\"screen\"},\"id\":\"2c188eb5-b77b-4b62-934f-560c54044621\",\"type\":\"BoxAnnotation\"},{\"attributes\":{\"dimension\":1,\"plot\":{\"id\":\"66d55bc0-5be0-4f37-83af-07fec05c5568\",\"subtype\":\"Figure\",\"type\":\"Plot\"},\"ticker\":{\"id\":\"d6276301-1823-4144-9a85-5811d59716ec\",\"type\":\"BasicTicker\"}},\"id\":\"61405a83-01a9-4c5d-8859-b97edbbbbf1e\",\"type\":\"Grid\"},{\"attributes\":{\"callback\":null},\"id\":\"e254f819-acb9-48c2-80e9-1fea267b087d\",\"type\":\"DataRange1d\"},{\"attributes\":{\"line_color\":\"#1f77b4\",\"line_width\":2,\"x\":{\"field\":\"x\"},\"y\":{\"field\":\"y\"}},\"id\":\"db3c7a72-9e01-415b-8384-62c2fda43310\",\"type\":\"Line\"},{\"attributes\":{\"callback\":null,\"column_names\":[\"x\",\"y\"],\"data\":{\"x\":[1,2,3,4,5],\"y\":[6,7,8,7,3]}},\"id\":\"185aa7d1-7b80-47a4-9db3-002571ec0f81\",\"type\":\"ColumnDataSource\"},{\"attributes\":{},\"id\":\"4986163a-bebe-4f81-beb3-5817d51abea7\",\"type\":\"LinearScale\"},{\"attributes\":{\"formatter\":{\"id\":\"00670bda-d5a6-45d9-a06d-06f51da31201\",\"type\":\"BasicTickFormatter\"},\"plot\":{\"id\":\"66d55bc0-5be0-4f37-83af-07fec05c5568\",\"subtype\":\"Figure\",\"type\":\"Plot\"},\"ticker\":{\"id\":\"01a1d5a7-f8d1-44f8-90e8-6d6352a5aabd\",\"type\":\"BasicTicker\"}},\"id\":\"fd92b9b2-55c0-4452-86ec-bf5578ea5267\",\"type\":\"LinearAxis\"},{\"attributes\":{},\"id\":\"6e9c171b-4e1c-4053-b34d-9863b28fa4c8\",\"type\":\"PanTool\"},{\"attributes\":{\"callback\":null},\"id\":\"31296d8b-fb55-40a0-9fd5-65ebd9c159f1\",\"type\":\"DataRange1d\"},{\"attributes\":{},\"id\":\"d6276301-1823-4144-9a85-5811d59716ec\",\"type\":\"BasicTicker\"},{\"attributes\":{},\"id\":\"6f32ea7a-c2e2-46e6-97a5-f3ffc6671711\",\"type\":\"WheelZoomTool\"},{\"attributes\":{\"formatter\":{\"id\":\"51adfdec-0088-4c83-8392-d30778281637\",\"type\":\"BasicTickFormatter\"},\"plot\":{\"id\":\"66d55bc0-5be0-4f37-83af-07fec05c5568\",\"subtype\":\"Figure\",\"type\":\"Plot\"},\"ticker\":{\"id\":\"d6276301-1823-4144-9a85-5811d59716ec\",\"type\":\"BasicTicker\"}},\"id\":\"488e62e2-03e7-4e9f-a5eb-3cffe0669b2a\",\"type\":\"LinearAxis\"},{\"attributes\":{},\"id\":\"e6fdaa68-fca0-4936-a2cf-5ccd54364607\",\"type\":\"LinearScale\"},{\"attributes\":{\"plot\":{\"id\":\"66d55bc0-5be0-4f37-83af-07fec05c5568\",\"subtype\":\"Figure\",\"type\":\"Plot\"},\"ticker\":{\"id\":\"01a1d5a7-f8d1-44f8-90e8-6d6352a5aabd\",\"type\":\"BasicTicker\"}},\"id\":\"332371ed-7a8d-49d7-9e56-bac29085e236\",\"type\":\"Grid\"},{\"attributes\":{\"data_source\":{\"id\":\"185aa7d1-7b80-47a4-9db3-002571ec0f81\",\"type\":\"ColumnDataSource\"},\"glyph\":{\"id\":\"db3c7a72-9e01-415b-8384-62c2fda43310\",\"type\":\"Line\"},\"hover_glyph\":null,\"muted_glyph\":null,\"nonselection_glyph\":{\"id\":\"aeb0857a-1c76-4d1e-aca8-618f3335bf35\",\"type\":\"Line\"},\"selection_glyph\":null,\"view\":{\"id\":\"29ff2527-bcae-4f2d-976d-2a1f5eb412ef\",\"type\":\"CDSView\"}},\"id\":\"3ab82905-2396-460b-93ee-fb190a773f29\",\"type\":\"GlyphRenderer\"}],\"root_ids\":[\"66d55bc0-5be0-4f37-83af-07fec05c5568\"]},\"title\":\"Bokeh Application\",\"version\":\"0.12.14\"}};\n",
       "  var render_items = [{\"docid\":\"af40c377-ad87-460c-aa8f-a987f8830cdc\",\"elementid\":\"1f3c927d-b521-4fe9-8bf3-48930373a8bd\",\"modelid\":\"66d55bc0-5be0-4f37-83af-07fec05c5568\"}];\n",
       "  root.Bokeh.embed.embed_items_notebook(docs_json, render_items);\n",
       "\n",
       "  }\n",
       "  if (root.Bokeh !== undefined) {\n",
       "    embed_document(root);\n",
       "  } else {\n",
       "    var attempts = 0;\n",
       "    var timer = setInterval(function(root) {\n",
       "      if (root.Bokeh !== undefined) {\n",
       "        embed_document(root);\n",
       "        clearInterval(timer);\n",
       "      }\n",
       "      attempts++;\n",
       "      if (attempts > 100) {\n",
       "        console.log(\"Bokeh: ERROR: Unable to run BokehJS code because BokehJS library is missing\")\n",
       "        clearInterval(timer);\n",
       "      }\n",
       "    }, 10, root)\n",
       "  }\n",
       "})(window);"
      ],
      "application/vnd.bokehjs_exec.v0+json": ""
     },
     "metadata": {
      "application/vnd.bokehjs_exec.v0+json": {
       "id": "66d55bc0-5be0-4f37-83af-07fec05c5568"
      }
     },
     "output_type": "display_data"
    }
   ],
   "source": [
    "# set up some data\n",
    "x = [1, 2, 3, 4, 5]\n",
    "y = [6, 7, 8, 7, 3]\n",
    "\n",
    "# create a new plot with figure\n",
    "p = figure(plot_width=400, plot_height=400)\n",
    "\n",
    "# add both a line and circles on the same plot\n",
    "p.line(x, y, line_width=2)\n",
    "p.circle(x, y, fill_color=\"white\", size=8)\n",
    "\n",
    "show(p) # show the results"
   ]
  },
  {
   "cell_type": "code",
   "execution_count": null,
   "metadata": {},
   "outputs": [],
   "source": []
  }
 ],
 "metadata": {
  "kernelspec": {
   "display_name": "Python 3",
   "language": "python",
   "name": "python3"
  },
  "language_info": {
   "codemirror_mode": {
    "name": "ipython",
    "version": 3
   },
   "file_extension": ".py",
   "mimetype": "text/x-python",
   "name": "python",
   "nbconvert_exporter": "python",
   "pygments_lexer": "ipython3",
   "version": "3.6.3"
  }
 },
 "nbformat": 4,
 "nbformat_minor": 2
}
